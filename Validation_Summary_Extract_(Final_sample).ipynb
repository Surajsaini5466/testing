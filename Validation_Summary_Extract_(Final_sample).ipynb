{
  "cells": [
    {
      "cell_type": "markdown",
      "metadata": {
        "id": "view-in-github",
        "colab_type": "text"
      },
      "source": [
        "<a href=\"https://colab.research.google.com/github/Surajsaini5466/testing/blob/master/Validation_Summary_Extract_(Final_sample).ipynb\" target=\"_parent\"><img src=\"https://colab.research.google.com/assets/colab-badge.svg\" alt=\"Open In Colab\"/></a>"
      ]
    },
    {
      "cell_type": "code",
      "execution_count": null,
      "metadata": {
        "colab": {
          "base_uri": "https://localhost:8080/"
        },
        "id": "C5aekz3Zyywh",
        "outputId": "d4984324-a508-47a8-fe09-1288b62b0128"
      },
      "outputs": [
        {
          "output_type": "stream",
          "name": "stdout",
          "text": [
            "Collecting xlsxwriter\n",
            "  Downloading XlsxWriter-3.1.9-py3-none-any.whl (154 kB)\n",
            "\u001b[?25l     \u001b[90m━━━━━━━━━━━━━━━━━━━━━━━━━━━━━━━━━━━━━━━━\u001b[0m \u001b[32m0.0/154.8 kB\u001b[0m \u001b[31m?\u001b[0m eta \u001b[36m-:--:--\u001b[0m\r\u001b[2K     \u001b[90m━━━━━━━━━━━━━━━━━━━━━━━━━━━━━━━━━━━━━━━━\u001b[0m \u001b[32m154.8/154.8 kB\u001b[0m \u001b[31m5.6 MB/s\u001b[0m eta \u001b[36m0:00:00\u001b[0m\n",
            "\u001b[?25hInstalling collected packages: xlsxwriter\n",
            "Successfully installed xlsxwriter-3.1.9\n"
          ]
        }
      ],
      "source": [
        "!pip install xlsxwriter"
      ]
    },
    {
      "cell_type": "code",
      "execution_count": 1,
      "metadata": {
        "colab": {
          "base_uri": "https://localhost:8080/"
        },
        "id": "K2eaWblLoFgb",
        "outputId": "d895a5bc-35d6-4225-b55a-8ad6b6992bf1"
      },
      "outputs": [
        {
          "output_type": "stream",
          "name": "stdout",
          "text": [
            "Mounted at /content/drive\n"
          ]
        }
      ],
      "source": [
        "import os\n",
        "from google.colab import drive\n",
        "drive.mount('/content/drive')"
      ]
    },
    {
      "cell_type": "code",
      "execution_count": 2,
      "metadata": {
        "colab": {
          "base_uri": "https://localhost:8080/"
        },
        "id": "jpHhk0naozoL",
        "outputId": "fdc428f7-657f-4190-9c84-2fd98aa2d296"
      },
      "outputs": [
        {
          "output_type": "stream",
          "name": "stdout",
          "text": [
            " DE   FR  'UK '\n"
          ]
        }
      ],
      "source": [
        "!ls \"/content/drive/MyDrive/GPD project/PN EMEA Exports\""
      ]
    },
    {
      "cell_type": "code",
      "execution_count": 3,
      "metadata": {
        "id": "6nisayCzq2y3"
      },
      "outputs": [],
      "source": [
        "folder = \"/content/drive/MyDrive/GPD project/PN EMEA Exports\"\n",
        "countries = ('HK',  'ID',\t'JP',  'KR',\t'MY',  'NZ',\t'PH',  'SG',\t'TH',  'TW',\t'VN', 'IN', 'AU', 'US', 'CA')\n"
      ]
    },
    {
      "cell_type": "code",
      "execution_count": 4,
      "metadata": {
        "id": "VkHZa-kFpo-A"
      },
      "outputs": [],
      "source": [
        "all_required_countries = ['UK', 'FR', 'DE']\n",
        "#batch2_countries_files = [i for i in os.listdir(folder) if i.startswith(batch2_countries)]"
      ]
    },
    {
      "cell_type": "code",
      "execution_count": 5,
      "metadata": {
        "colab": {
          "base_uri": "https://localhost:8080/"
        },
        "id": "nscrLOEmrH0w",
        "outputId": "87aca664-e811-4db3-e9e2-3c7317237fc8"
      },
      "outputs": [
        {
          "output_type": "execute_result",
          "data": {
            "text/plain": [
              "['UK', 'FR', 'DE']"
            ]
          },
          "metadata": {},
          "execution_count": 5
        }
      ],
      "source": [
        "all_required_countries"
      ]
    },
    {
      "cell_type": "code",
      "execution_count": 6,
      "metadata": {
        "id": "pjBFVYTJrKSU"
      },
      "outputs": [],
      "source": [
        "import pandas as pd\n",
        "import numpy as np"
      ]
    },
    {
      "cell_type": "code",
      "execution_count": 9,
      "metadata": {
        "id": "oaa1HO9bynBg"
      },
      "outputs": [],
      "source": [
        "# change file name\n",
        "\n",
        "# #writer = pd.ExcelWriter('GMD_Data_Validation_EMEA_Batch1.xlsx', engine = 'xlsxwriter')\n",
        "# writer = pd.ExcelWriter('GMD_Data_Summary', engine = 'xlsxwriter')"
      ]
    },
    {
      "cell_type": "code",
      "execution_count": 10,
      "metadata": {
        "id": "LM9walSjx-dx"
      },
      "outputs": [],
      "source": [
        "\n",
        "\n",
        "country = 'FR'\n"
      ]
    },
    {
      "cell_type": "code",
      "execution_count": 11,
      "metadata": {
        "colab": {
          "base_uri": "https://localhost:8080/"
        },
        "id": "XDoCejhXFFnk",
        "outputId": "c82a0724-05e4-4b01-a346-364773aa1e99"
      },
      "outputs": [
        {
          "output_type": "execute_result",
          "data": {
            "text/plain": [
              "['FR_DATORAMA_ONLINE2023-01-082023-01-14_PN.tsv',\n",
              " 'FR_DATORAMA_ONLINE2023-01-152023-01-21_PN.tsv',\n",
              " 'FR_DATORAMA_ONLINE2023-01-222023-01-28_PN.tsv',\n",
              " 'FR_DATORAMA_ONLINE2023-01-292023-02-04_PN.tsv',\n",
              " 'FR_DATORAMA_ONLINE2023-02-052023-02-11_PN.tsv',\n",
              " 'FR_DATORAMA_ONLINE2023-02-122023-02-18_PN.tsv',\n",
              " 'FR_DATORAMA_ONLINE2023-02-192023-02-25_PN.tsv',\n",
              " 'FR_DATORAMA_ONLINE2023-03-192023-03-25_PN.tsv',\n",
              " 'FR_DATORAMA_ONLINE2023-03-122023-03-18_PN.tsv',\n",
              " 'FR_DATORAMA_ONLINE2023-03-052023-03-11_PN.tsv',\n",
              " 'FR_DATORAMA_ONLINE2023-02-262023-03-04_PN.tsv',\n",
              " 'FR_DATORAMA_ONLINE2023-04-092023-04-15_PN.tsv',\n",
              " 'FR_DATORAMA_ONLINE2023-04-162023-04-22_PN.tsv',\n",
              " 'FR_DATORAMA_ONLINE2023-04-022023-04-08_PN.tsv',\n",
              " 'FR_DATORAMA_ONLINE2023-04-232023-04-29_PN.tsv',\n",
              " 'FR_DATORAMA_ONLINE2023-03-262023-04-01_PN.tsv',\n",
              " 'FR_DATORAMA_ONLINE2023-04-302023-05-06_PN.tsv',\n",
              " 'FR_DATORAMA_ONLINE2023-05-072023-05-13_PN.tsv',\n",
              " 'FR_DATORAMA_ONLINE2023-05-142023-05-20_PN.tsv',\n",
              " 'FR_DATORAMA_ONLINE2023-05-212023-05-27_PN.tsv',\n",
              " 'FR_DATORAMA_ONLINE2023-05-282023-06-03_PN.tsv',\n",
              " 'FR_DATORAMA_ONLINE2023-06-042023-06-10_PN.tsv',\n",
              " 'FR_DATORAMA_ONLINE2023-06-112023-06-17_PN.tsv',\n",
              " 'FR_DATORAMA_ONLINE2023-06-182023-06-24_PN.tsv',\n",
              " 'FR_DATORAMA_ONLINE2023-06-252023-07-01_PN.tsv',\n",
              " 'FR_DATORAMA_ONLINE2023-08-062023-08-12_PN.tsv',\n",
              " 'FR_DATORAMA_ONLINE2023-07-022023-07-08_PN.tsv',\n",
              " 'FR_DATORAMA_ONLINE2023-07-162023-07-22_PN.tsv',\n",
              " 'FR_DATORAMA_ONLINE2023-07-092023-07-15_PN.tsv',\n",
              " 'FR_DATORAMA_ONLINE2023-07-302023-08-05_PN.tsv',\n",
              " 'FR_DATORAMA_ONLINE2023-07-232023-07-29_PN.tsv',\n",
              " 'FR_DATORAMA_ONLINE2023-08-132023-08-19_PN.tsv',\n",
              " 'FR_DATORAMA_ONLINE2023-08-202023-08-26_PN.tsv',\n",
              " 'FR_DATORAMA_ONLINE2023-08-272023-09-02_PN.tsv',\n",
              " 'FR_DATORAMA_ONLINE2023-09-032023-09-09_PN.tsv',\n",
              " 'FR_DATORAMA_ONLINE2023-09-102023-09-16_PN.tsv']"
            ]
          },
          "metadata": {},
          "execution_count": 11
        }
      ],
      "source": [
        "os.listdir(f'{folder}/{country}')"
      ]
    },
    {
      "cell_type": "code",
      "execution_count": 12,
      "metadata": {
        "id": "1P3UAFS2tLjW"
      },
      "outputs": [],
      "source": [
        "#change the list of countries\n",
        "\n",
        "# country_files = [i for i in batch1_countries_files if i.startswith(f\"{country}_DATORAMA_ONLINE\")]\n",
        "country_files = [f'{folder}/{country}/{i}' for i in os.listdir(f'{folder}/{country}') if i.startswith(f\"{country[:2]}_DATORAMA_ONLINE\")]"
      ]
    },
    {
      "cell_type": "code",
      "execution_count": 13,
      "metadata": {
        "colab": {
          "base_uri": "https://localhost:8080/"
        },
        "id": "ln5yN03jEszW",
        "outputId": "3c81c074-0de5-4a92-da8c-3ca0cfb36067"
      },
      "outputs": [
        {
          "output_type": "execute_result",
          "data": {
            "text/plain": [
              "['/content/drive/MyDrive/GPD project/PN EMEA Exports/FR/FR_DATORAMA_ONLINE2023-01-082023-01-14_PN.tsv',\n",
              " '/content/drive/MyDrive/GPD project/PN EMEA Exports/FR/FR_DATORAMA_ONLINE2023-01-152023-01-21_PN.tsv',\n",
              " '/content/drive/MyDrive/GPD project/PN EMEA Exports/FR/FR_DATORAMA_ONLINE2023-01-222023-01-28_PN.tsv',\n",
              " '/content/drive/MyDrive/GPD project/PN EMEA Exports/FR/FR_DATORAMA_ONLINE2023-01-292023-02-04_PN.tsv',\n",
              " '/content/drive/MyDrive/GPD project/PN EMEA Exports/FR/FR_DATORAMA_ONLINE2023-02-052023-02-11_PN.tsv',\n",
              " '/content/drive/MyDrive/GPD project/PN EMEA Exports/FR/FR_DATORAMA_ONLINE2023-02-122023-02-18_PN.tsv',\n",
              " '/content/drive/MyDrive/GPD project/PN EMEA Exports/FR/FR_DATORAMA_ONLINE2023-02-192023-02-25_PN.tsv',\n",
              " '/content/drive/MyDrive/GPD project/PN EMEA Exports/FR/FR_DATORAMA_ONLINE2023-03-192023-03-25_PN.tsv',\n",
              " '/content/drive/MyDrive/GPD project/PN EMEA Exports/FR/FR_DATORAMA_ONLINE2023-03-122023-03-18_PN.tsv',\n",
              " '/content/drive/MyDrive/GPD project/PN EMEA Exports/FR/FR_DATORAMA_ONLINE2023-03-052023-03-11_PN.tsv',\n",
              " '/content/drive/MyDrive/GPD project/PN EMEA Exports/FR/FR_DATORAMA_ONLINE2023-02-262023-03-04_PN.tsv',\n",
              " '/content/drive/MyDrive/GPD project/PN EMEA Exports/FR/FR_DATORAMA_ONLINE2023-04-092023-04-15_PN.tsv',\n",
              " '/content/drive/MyDrive/GPD project/PN EMEA Exports/FR/FR_DATORAMA_ONLINE2023-04-162023-04-22_PN.tsv',\n",
              " '/content/drive/MyDrive/GPD project/PN EMEA Exports/FR/FR_DATORAMA_ONLINE2023-04-022023-04-08_PN.tsv',\n",
              " '/content/drive/MyDrive/GPD project/PN EMEA Exports/FR/FR_DATORAMA_ONLINE2023-04-232023-04-29_PN.tsv',\n",
              " '/content/drive/MyDrive/GPD project/PN EMEA Exports/FR/FR_DATORAMA_ONLINE2023-03-262023-04-01_PN.tsv',\n",
              " '/content/drive/MyDrive/GPD project/PN EMEA Exports/FR/FR_DATORAMA_ONLINE2023-04-302023-05-06_PN.tsv',\n",
              " '/content/drive/MyDrive/GPD project/PN EMEA Exports/FR/FR_DATORAMA_ONLINE2023-05-072023-05-13_PN.tsv',\n",
              " '/content/drive/MyDrive/GPD project/PN EMEA Exports/FR/FR_DATORAMA_ONLINE2023-05-142023-05-20_PN.tsv',\n",
              " '/content/drive/MyDrive/GPD project/PN EMEA Exports/FR/FR_DATORAMA_ONLINE2023-05-212023-05-27_PN.tsv',\n",
              " '/content/drive/MyDrive/GPD project/PN EMEA Exports/FR/FR_DATORAMA_ONLINE2023-05-282023-06-03_PN.tsv',\n",
              " '/content/drive/MyDrive/GPD project/PN EMEA Exports/FR/FR_DATORAMA_ONLINE2023-06-042023-06-10_PN.tsv',\n",
              " '/content/drive/MyDrive/GPD project/PN EMEA Exports/FR/FR_DATORAMA_ONLINE2023-06-112023-06-17_PN.tsv',\n",
              " '/content/drive/MyDrive/GPD project/PN EMEA Exports/FR/FR_DATORAMA_ONLINE2023-06-182023-06-24_PN.tsv',\n",
              " '/content/drive/MyDrive/GPD project/PN EMEA Exports/FR/FR_DATORAMA_ONLINE2023-06-252023-07-01_PN.tsv',\n",
              " '/content/drive/MyDrive/GPD project/PN EMEA Exports/FR/FR_DATORAMA_ONLINE2023-08-062023-08-12_PN.tsv',\n",
              " '/content/drive/MyDrive/GPD project/PN EMEA Exports/FR/FR_DATORAMA_ONLINE2023-07-022023-07-08_PN.tsv',\n",
              " '/content/drive/MyDrive/GPD project/PN EMEA Exports/FR/FR_DATORAMA_ONLINE2023-07-162023-07-22_PN.tsv',\n",
              " '/content/drive/MyDrive/GPD project/PN EMEA Exports/FR/FR_DATORAMA_ONLINE2023-07-092023-07-15_PN.tsv',\n",
              " '/content/drive/MyDrive/GPD project/PN EMEA Exports/FR/FR_DATORAMA_ONLINE2023-07-302023-08-05_PN.tsv',\n",
              " '/content/drive/MyDrive/GPD project/PN EMEA Exports/FR/FR_DATORAMA_ONLINE2023-07-232023-07-29_PN.tsv',\n",
              " '/content/drive/MyDrive/GPD project/PN EMEA Exports/FR/FR_DATORAMA_ONLINE2023-08-132023-08-19_PN.tsv',\n",
              " '/content/drive/MyDrive/GPD project/PN EMEA Exports/FR/FR_DATORAMA_ONLINE2023-08-202023-08-26_PN.tsv',\n",
              " '/content/drive/MyDrive/GPD project/PN EMEA Exports/FR/FR_DATORAMA_ONLINE2023-08-272023-09-02_PN.tsv',\n",
              " '/content/drive/MyDrive/GPD project/PN EMEA Exports/FR/FR_DATORAMA_ONLINE2023-09-032023-09-09_PN.tsv',\n",
              " '/content/drive/MyDrive/GPD project/PN EMEA Exports/FR/FR_DATORAMA_ONLINE2023-09-102023-09-16_PN.tsv']"
            ]
          },
          "metadata": {},
          "execution_count": 13
        }
      ],
      "source": [
        "country_files"
      ]
    },
    {
      "cell_type": "code",
      "source": [
        "df = None\n",
        "\n",
        "for each in range(10):\n",
        "  print(country_files[each])\n",
        "  data = pd.read_csv(country_files[each], sep = '\\t',skiprows=0)\n",
        "  print(data.shape)\n",
        "  if isinstance(df, pd.DataFrame):\n",
        "    df = df.append(data)\n",
        "  else:\n",
        "    df = data\n",
        "\n",
        "print(df.shape)"
      ],
      "metadata": {
        "id": "CiMp5iCJaK0a",
        "colab": {
          "base_uri": "https://localhost:8080/"
        },
        "outputId": "35363ed7-488a-4d8f-872a-f04d3ae61b68"
      },
      "execution_count": 14,
      "outputs": [
        {
          "output_type": "stream",
          "name": "stdout",
          "text": [
            "/content/drive/MyDrive/GPD project/PN EMEA Exports/FR/FR_DATORAMA_ONLINE2023-01-082023-01-14_PN.tsv\n"
          ]
        },
        {
          "output_type": "stream",
          "name": "stderr",
          "text": [
            "<ipython-input-14-71af1e5e78d1>:5: DtypeWarning: Columns (8,10,17) have mixed types. Specify dtype option on import or set low_memory=False.\n",
            "  data = pd.read_csv(country_files[each], sep = '\\t',skiprows=0)\n"
          ]
        },
        {
          "output_type": "stream",
          "name": "stdout",
          "text": [
            "(248058, 47)\n",
            "/content/drive/MyDrive/GPD project/PN EMEA Exports/FR/FR_DATORAMA_ONLINE2023-01-152023-01-21_PN.tsv\n"
          ]
        },
        {
          "output_type": "stream",
          "name": "stderr",
          "text": [
            "<ipython-input-14-71af1e5e78d1>:5: DtypeWarning: Columns (8,10,17) have mixed types. Specify dtype option on import or set low_memory=False.\n",
            "  data = pd.read_csv(country_files[each], sep = '\\t',skiprows=0)\n",
            "<ipython-input-14-71af1e5e78d1>:8: FutureWarning: The frame.append method is deprecated and will be removed from pandas in a future version. Use pandas.concat instead.\n",
            "  df = df.append(data)\n"
          ]
        },
        {
          "output_type": "stream",
          "name": "stdout",
          "text": [
            "(279230, 47)\n",
            "/content/drive/MyDrive/GPD project/PN EMEA Exports/FR/FR_DATORAMA_ONLINE2023-01-222023-01-28_PN.tsv\n"
          ]
        },
        {
          "output_type": "stream",
          "name": "stderr",
          "text": [
            "<ipython-input-14-71af1e5e78d1>:5: DtypeWarning: Columns (8,10,17) have mixed types. Specify dtype option on import or set low_memory=False.\n",
            "  data = pd.read_csv(country_files[each], sep = '\\t',skiprows=0)\n",
            "<ipython-input-14-71af1e5e78d1>:8: FutureWarning: The frame.append method is deprecated and will be removed from pandas in a future version. Use pandas.concat instead.\n",
            "  df = df.append(data)\n"
          ]
        },
        {
          "output_type": "stream",
          "name": "stdout",
          "text": [
            "(238669, 47)\n",
            "/content/drive/MyDrive/GPD project/PN EMEA Exports/FR/FR_DATORAMA_ONLINE2023-01-292023-02-04_PN.tsv\n"
          ]
        },
        {
          "output_type": "stream",
          "name": "stderr",
          "text": [
            "<ipython-input-14-71af1e5e78d1>:5: DtypeWarning: Columns (8,10,17) have mixed types. Specify dtype option on import or set low_memory=False.\n",
            "  data = pd.read_csv(country_files[each], sep = '\\t',skiprows=0)\n",
            "<ipython-input-14-71af1e5e78d1>:8: FutureWarning: The frame.append method is deprecated and will be removed from pandas in a future version. Use pandas.concat instead.\n",
            "  df = df.append(data)\n"
          ]
        },
        {
          "output_type": "stream",
          "name": "stdout",
          "text": [
            "(287528, 47)\n",
            "/content/drive/MyDrive/GPD project/PN EMEA Exports/FR/FR_DATORAMA_ONLINE2023-02-052023-02-11_PN.tsv\n"
          ]
        },
        {
          "output_type": "stream",
          "name": "stderr",
          "text": [
            "<ipython-input-14-71af1e5e78d1>:5: DtypeWarning: Columns (8,10,17) have mixed types. Specify dtype option on import or set low_memory=False.\n",
            "  data = pd.read_csv(country_files[each], sep = '\\t',skiprows=0)\n",
            "<ipython-input-14-71af1e5e78d1>:8: FutureWarning: The frame.append method is deprecated and will be removed from pandas in a future version. Use pandas.concat instead.\n",
            "  df = df.append(data)\n"
          ]
        },
        {
          "output_type": "stream",
          "name": "stdout",
          "text": [
            "(415335, 47)\n",
            "/content/drive/MyDrive/GPD project/PN EMEA Exports/FR/FR_DATORAMA_ONLINE2023-02-122023-02-18_PN.tsv\n"
          ]
        },
        {
          "output_type": "stream",
          "name": "stderr",
          "text": [
            "<ipython-input-14-71af1e5e78d1>:5: DtypeWarning: Columns (8,10,17) have mixed types. Specify dtype option on import or set low_memory=False.\n",
            "  data = pd.read_csv(country_files[each], sep = '\\t',skiprows=0)\n",
            "<ipython-input-14-71af1e5e78d1>:8: FutureWarning: The frame.append method is deprecated and will be removed from pandas in a future version. Use pandas.concat instead.\n",
            "  df = df.append(data)\n"
          ]
        },
        {
          "output_type": "stream",
          "name": "stdout",
          "text": [
            "(378345, 47)\n",
            "/content/drive/MyDrive/GPD project/PN EMEA Exports/FR/FR_DATORAMA_ONLINE2023-02-192023-02-25_PN.tsv\n"
          ]
        },
        {
          "output_type": "stream",
          "name": "stderr",
          "text": [
            "<ipython-input-14-71af1e5e78d1>:5: DtypeWarning: Columns (8,10,17) have mixed types. Specify dtype option on import or set low_memory=False.\n",
            "  data = pd.read_csv(country_files[each], sep = '\\t',skiprows=0)\n",
            "<ipython-input-14-71af1e5e78d1>:8: FutureWarning: The frame.append method is deprecated and will be removed from pandas in a future version. Use pandas.concat instead.\n",
            "  df = df.append(data)\n"
          ]
        },
        {
          "output_type": "stream",
          "name": "stdout",
          "text": [
            "(279744, 47)\n",
            "/content/drive/MyDrive/GPD project/PN EMEA Exports/FR/FR_DATORAMA_ONLINE2023-03-192023-03-25_PN.tsv\n"
          ]
        },
        {
          "output_type": "stream",
          "name": "stderr",
          "text": [
            "<ipython-input-14-71af1e5e78d1>:5: DtypeWarning: Columns (8,10,17) have mixed types. Specify dtype option on import or set low_memory=False.\n",
            "  data = pd.read_csv(country_files[each], sep = '\\t',skiprows=0)\n",
            "<ipython-input-14-71af1e5e78d1>:8: FutureWarning: The frame.append method is deprecated and will be removed from pandas in a future version. Use pandas.concat instead.\n",
            "  df = df.append(data)\n"
          ]
        },
        {
          "output_type": "stream",
          "name": "stdout",
          "text": [
            "(395640, 47)\n",
            "/content/drive/MyDrive/GPD project/PN EMEA Exports/FR/FR_DATORAMA_ONLINE2023-03-122023-03-18_PN.tsv\n"
          ]
        },
        {
          "output_type": "stream",
          "name": "stderr",
          "text": [
            "<ipython-input-14-71af1e5e78d1>:5: DtypeWarning: Columns (8,10,17) have mixed types. Specify dtype option on import or set low_memory=False.\n",
            "  data = pd.read_csv(country_files[each], sep = '\\t',skiprows=0)\n"
          ]
        },
        {
          "output_type": "stream",
          "name": "stdout",
          "text": [
            "(534518, 47)\n"
          ]
        },
        {
          "output_type": "stream",
          "name": "stderr",
          "text": [
            "<ipython-input-14-71af1e5e78d1>:8: FutureWarning: The frame.append method is deprecated and will be removed from pandas in a future version. Use pandas.concat instead.\n",
            "  df = df.append(data)\n"
          ]
        },
        {
          "output_type": "stream",
          "name": "stdout",
          "text": [
            "/content/drive/MyDrive/GPD project/PN EMEA Exports/FR/FR_DATORAMA_ONLINE2023-03-052023-03-11_PN.tsv\n"
          ]
        },
        {
          "output_type": "stream",
          "name": "stderr",
          "text": [
            "<ipython-input-14-71af1e5e78d1>:5: DtypeWarning: Columns (8,10,17) have mixed types. Specify dtype option on import or set low_memory=False.\n",
            "  data = pd.read_csv(country_files[each], sep = '\\t',skiprows=0)\n"
          ]
        },
        {
          "output_type": "stream",
          "name": "stdout",
          "text": [
            "(748401, 47)\n"
          ]
        },
        {
          "output_type": "stream",
          "name": "stderr",
          "text": [
            "<ipython-input-14-71af1e5e78d1>:8: FutureWarning: The frame.append method is deprecated and will be removed from pandas in a future version. Use pandas.concat instead.\n",
            "  df = df.append(data)\n"
          ]
        },
        {
          "output_type": "stream",
          "name": "stdout",
          "text": [
            "(3805468, 47)\n"
          ]
        }
      ]
    },
    {
      "cell_type": "markdown",
      "source": [
        "#### Manual upload from Local\n"
      ],
      "metadata": {
        "id": "lMS3eYYGZ_J7"
      }
    },
    {
      "cell_type": "code",
      "source": [
        "# Manual upload from Local\n",
        "# import pandas as pd\n",
        "\n",
        "# path = '/content/CA_DATORAMA_ONLINE_MW_2023-09-01 (2).xlsx'\n",
        "# df = pd.read_excel(path,skiprows=4)"
      ],
      "metadata": {
        "id": "SnkC0HycYxL5"
      },
      "execution_count": null,
      "outputs": []
    },
    {
      "cell_type": "code",
      "source": [
        "df.columns"
      ],
      "metadata": {
        "id": "D96lb7v50-4f",
        "outputId": "cbe8923d-cb96-4122-90c0-1d58d2d630be",
        "colab": {
          "base_uri": "https://localhost:8080/"
        }
      },
      "execution_count": 15,
      "outputs": [
        {
          "output_type": "execute_result",
          "data": {
            "text/plain": [
              "Index(['Brand (Final) [Brand Classification Rule]', 'Main Channel Category ',\n",
              "       'Publisher - (Calculated)',\n",
              "       'Country(Final) [Country Classification Rule]', 'Campaign Advertiser',\n",
              "       'Campaign Advertiser ID', 'Campaign Key', 'Campaign Name',\n",
              "       'Campaign Category', 'Region(Final) [Country Classification Rule]',\n",
              "       'Creative Format', 'Creative Key', 'Creative Name', 'Exchange Key',\n",
              "       'Exchange Name', 'Media Buy Key', 'Media Buy Name', 'Media Buy Type',\n",
              "       'Strategy Key', 'Strategy Name', 'Site Key', 'Domain_Name', 'Day',\n",
              "       'Source Platform', 'Currency (Original)', 'Clicks',\n",
              "       'Media Cost (Original)', 'Impressions', 'Measurable Impressions',\n",
              "       'Video Avg. Duration (Seconds)', 'Video Completions 25%',\n",
              "       'Video Completions 25% Rate', 'Video Completions 50%',\n",
              "       'Video Completions 50% Rate', 'Video Completions 75%',\n",
              "       'Video Completions 75% Rate', 'Video Fully Played',\n",
              "       'Video Fully Played Rate', 'Video Plays', 'Video Views',\n",
              "       'Video Views Rate', 'Viewable Impressions', 'CPM', 'CTR',\n",
              "       'Total Conversions', 'CPV', 'CPCV'],\n",
              "      dtype='object')"
            ]
          },
          "metadata": {},
          "execution_count": 15
        }
      ]
    },
    {
      "cell_type": "code",
      "source": [
        "df.head()"
      ],
      "metadata": {
        "colab": {
          "base_uri": "https://localhost:8080/",
          "height": 307
        },
        "id": "i3TUSj8Xzfv8",
        "outputId": "472b4318-cf5c-4a27-b9e8-429cb111bed4"
      },
      "execution_count": 16,
      "outputs": [
        {
          "output_type": "execute_result",
          "data": {
            "text/plain": [
              "  Brand (Final) [Brand Classification Rule] Main Channel Category   \\\n",
              "0                                   Whiskas           Programmatic   \n",
              "1                                   Whiskas           Programmatic   \n",
              "2                                   Whiskas           Programmatic   \n",
              "3                                   Whiskas           Programmatic   \n",
              "4                                   Whiskas           Programmatic   \n",
              "\n",
              "  Publisher - (Calculated) Country(Final) [Country Classification Rule]  \\\n",
              "0                   Amazon                                       France   \n",
              "1                   Amazon                                       France   \n",
              "2                   Amazon                                       France   \n",
              "3                   Amazon                                       France   \n",
              "4                   Amazon                                       France   \n",
              "\n",
              "  Campaign Advertiser Campaign Advertiser ID           Campaign Key  \\\n",
              "0          Whiskas_FR  =\"586076229673648517\"  =\"588071446702246171\"   \n",
              "1          Whiskas_FR  =\"586076229673648517\"  =\"588071446702246171\"   \n",
              "2          Whiskas_FR  =\"586076229673648517\"  =\"588071446702246171\"   \n",
              "3          Whiskas_FR  =\"586076229673648517\"  =\"588071446702246171\"   \n",
              "4          Whiskas_FR  =\"586076229673648517\"  =\"588071446702246171\"   \n",
              "\n",
              "                                       Campaign Name Campaign Category  \\\n",
              "0  fr_whiskas_petcare_europe_mm_dcom_dis_23_01_p0...               NaN   \n",
              "1  fr_whiskas_petcare_europe_mm_dcom_dis_23_01_p0...               NaN   \n",
              "2  fr_whiskas_petcare_europe_mm_dcom_dis_23_01_p0...               NaN   \n",
              "3  fr_whiskas_petcare_europe_mm_dcom_dis_23_01_p0...               NaN   \n",
              "4  fr_whiskas_petcare_europe_mm_dcom_dis_23_01_p0...               NaN   \n",
              "\n",
              "  Region(Final) [Country Classification Rule]  ... Video Fully Played Rate  \\\n",
              "0                                      Europe  ...                     0.0   \n",
              "1                                      Europe  ...                     0.0   \n",
              "2                                      Europe  ...                     0.0   \n",
              "3                                      Europe  ...                     0.0   \n",
              "4                                      Europe  ...                     0.0   \n",
              "\n",
              "  Video Plays Video Views Video Views Rate Viewable Impressions       CPM  \\\n",
              "0         0.0         0.0              0.0                  1.0  1.422642   \n",
              "1         0.0         0.0              0.0                  1.0  0.740559   \n",
              "2         0.0         0.0              0.0                  1.0  1.052111   \n",
              "3         0.0         0.0              0.0                  1.0  0.912752   \n",
              "4         0.0         0.0              0.0                  9.0  1.150531   \n",
              "\n",
              "   CTR Total Conversions CPV CPCV  \n",
              "0  0.0               NaN NaN  NaN  \n",
              "1  0.0               NaN NaN  NaN  \n",
              "2  0.0               NaN NaN  NaN  \n",
              "3  0.0               NaN NaN  NaN  \n",
              "4  0.0               NaN NaN  NaN  \n",
              "\n",
              "[5 rows x 47 columns]"
            ],
            "text/html": [
              "\n",
              "  <div id=\"df-f49330ec-e44d-4c54-8a7e-9f9be181812a\" class=\"colab-df-container\">\n",
              "    <div>\n",
              "<style scoped>\n",
              "    .dataframe tbody tr th:only-of-type {\n",
              "        vertical-align: middle;\n",
              "    }\n",
              "\n",
              "    .dataframe tbody tr th {\n",
              "        vertical-align: top;\n",
              "    }\n",
              "\n",
              "    .dataframe thead th {\n",
              "        text-align: right;\n",
              "    }\n",
              "</style>\n",
              "<table border=\"1\" class=\"dataframe\">\n",
              "  <thead>\n",
              "    <tr style=\"text-align: right;\">\n",
              "      <th></th>\n",
              "      <th>Brand (Final) [Brand Classification Rule]</th>\n",
              "      <th>Main Channel Category</th>\n",
              "      <th>Publisher - (Calculated)</th>\n",
              "      <th>Country(Final) [Country Classification Rule]</th>\n",
              "      <th>Campaign Advertiser</th>\n",
              "      <th>Campaign Advertiser ID</th>\n",
              "      <th>Campaign Key</th>\n",
              "      <th>Campaign Name</th>\n",
              "      <th>Campaign Category</th>\n",
              "      <th>Region(Final) [Country Classification Rule]</th>\n",
              "      <th>...</th>\n",
              "      <th>Video Fully Played Rate</th>\n",
              "      <th>Video Plays</th>\n",
              "      <th>Video Views</th>\n",
              "      <th>Video Views Rate</th>\n",
              "      <th>Viewable Impressions</th>\n",
              "      <th>CPM</th>\n",
              "      <th>CTR</th>\n",
              "      <th>Total Conversions</th>\n",
              "      <th>CPV</th>\n",
              "      <th>CPCV</th>\n",
              "    </tr>\n",
              "  </thead>\n",
              "  <tbody>\n",
              "    <tr>\n",
              "      <th>0</th>\n",
              "      <td>Whiskas</td>\n",
              "      <td>Programmatic</td>\n",
              "      <td>Amazon</td>\n",
              "      <td>France</td>\n",
              "      <td>Whiskas_FR</td>\n",
              "      <td>=\"586076229673648517\"</td>\n",
              "      <td>=\"588071446702246171\"</td>\n",
              "      <td>fr_whiskas_petcare_europe_mm_dcom_dis_23_01_p0...</td>\n",
              "      <td>NaN</td>\n",
              "      <td>Europe</td>\n",
              "      <td>...</td>\n",
              "      <td>0.0</td>\n",
              "      <td>0.0</td>\n",
              "      <td>0.0</td>\n",
              "      <td>0.0</td>\n",
              "      <td>1.0</td>\n",
              "      <td>1.422642</td>\n",
              "      <td>0.0</td>\n",
              "      <td>NaN</td>\n",
              "      <td>NaN</td>\n",
              "      <td>NaN</td>\n",
              "    </tr>\n",
              "    <tr>\n",
              "      <th>1</th>\n",
              "      <td>Whiskas</td>\n",
              "      <td>Programmatic</td>\n",
              "      <td>Amazon</td>\n",
              "      <td>France</td>\n",
              "      <td>Whiskas_FR</td>\n",
              "      <td>=\"586076229673648517\"</td>\n",
              "      <td>=\"588071446702246171\"</td>\n",
              "      <td>fr_whiskas_petcare_europe_mm_dcom_dis_23_01_p0...</td>\n",
              "      <td>NaN</td>\n",
              "      <td>Europe</td>\n",
              "      <td>...</td>\n",
              "      <td>0.0</td>\n",
              "      <td>0.0</td>\n",
              "      <td>0.0</td>\n",
              "      <td>0.0</td>\n",
              "      <td>1.0</td>\n",
              "      <td>0.740559</td>\n",
              "      <td>0.0</td>\n",
              "      <td>NaN</td>\n",
              "      <td>NaN</td>\n",
              "      <td>NaN</td>\n",
              "    </tr>\n",
              "    <tr>\n",
              "      <th>2</th>\n",
              "      <td>Whiskas</td>\n",
              "      <td>Programmatic</td>\n",
              "      <td>Amazon</td>\n",
              "      <td>France</td>\n",
              "      <td>Whiskas_FR</td>\n",
              "      <td>=\"586076229673648517\"</td>\n",
              "      <td>=\"588071446702246171\"</td>\n",
              "      <td>fr_whiskas_petcare_europe_mm_dcom_dis_23_01_p0...</td>\n",
              "      <td>NaN</td>\n",
              "      <td>Europe</td>\n",
              "      <td>...</td>\n",
              "      <td>0.0</td>\n",
              "      <td>0.0</td>\n",
              "      <td>0.0</td>\n",
              "      <td>0.0</td>\n",
              "      <td>1.0</td>\n",
              "      <td>1.052111</td>\n",
              "      <td>0.0</td>\n",
              "      <td>NaN</td>\n",
              "      <td>NaN</td>\n",
              "      <td>NaN</td>\n",
              "    </tr>\n",
              "    <tr>\n",
              "      <th>3</th>\n",
              "      <td>Whiskas</td>\n",
              "      <td>Programmatic</td>\n",
              "      <td>Amazon</td>\n",
              "      <td>France</td>\n",
              "      <td>Whiskas_FR</td>\n",
              "      <td>=\"586076229673648517\"</td>\n",
              "      <td>=\"588071446702246171\"</td>\n",
              "      <td>fr_whiskas_petcare_europe_mm_dcom_dis_23_01_p0...</td>\n",
              "      <td>NaN</td>\n",
              "      <td>Europe</td>\n",
              "      <td>...</td>\n",
              "      <td>0.0</td>\n",
              "      <td>0.0</td>\n",
              "      <td>0.0</td>\n",
              "      <td>0.0</td>\n",
              "      <td>1.0</td>\n",
              "      <td>0.912752</td>\n",
              "      <td>0.0</td>\n",
              "      <td>NaN</td>\n",
              "      <td>NaN</td>\n",
              "      <td>NaN</td>\n",
              "    </tr>\n",
              "    <tr>\n",
              "      <th>4</th>\n",
              "      <td>Whiskas</td>\n",
              "      <td>Programmatic</td>\n",
              "      <td>Amazon</td>\n",
              "      <td>France</td>\n",
              "      <td>Whiskas_FR</td>\n",
              "      <td>=\"586076229673648517\"</td>\n",
              "      <td>=\"588071446702246171\"</td>\n",
              "      <td>fr_whiskas_petcare_europe_mm_dcom_dis_23_01_p0...</td>\n",
              "      <td>NaN</td>\n",
              "      <td>Europe</td>\n",
              "      <td>...</td>\n",
              "      <td>0.0</td>\n",
              "      <td>0.0</td>\n",
              "      <td>0.0</td>\n",
              "      <td>0.0</td>\n",
              "      <td>9.0</td>\n",
              "      <td>1.150531</td>\n",
              "      <td>0.0</td>\n",
              "      <td>NaN</td>\n",
              "      <td>NaN</td>\n",
              "      <td>NaN</td>\n",
              "    </tr>\n",
              "  </tbody>\n",
              "</table>\n",
              "<p>5 rows × 47 columns</p>\n",
              "</div>\n",
              "    <div class=\"colab-df-buttons\">\n",
              "\n",
              "  <div class=\"colab-df-container\">\n",
              "    <button class=\"colab-df-convert\" onclick=\"convertToInteractive('df-f49330ec-e44d-4c54-8a7e-9f9be181812a')\"\n",
              "            title=\"Convert this dataframe to an interactive table.\"\n",
              "            style=\"display:none;\">\n",
              "\n",
              "  <svg xmlns=\"http://www.w3.org/2000/svg\" height=\"24px\" viewBox=\"0 -960 960 960\">\n",
              "    <path d=\"M120-120v-720h720v720H120Zm60-500h600v-160H180v160Zm220 220h160v-160H400v160Zm0 220h160v-160H400v160ZM180-400h160v-160H180v160Zm440 0h160v-160H620v160ZM180-180h160v-160H180v160Zm440 0h160v-160H620v160Z\"/>\n",
              "  </svg>\n",
              "    </button>\n",
              "\n",
              "  <style>\n",
              "    .colab-df-container {\n",
              "      display:flex;\n",
              "      gap: 12px;\n",
              "    }\n",
              "\n",
              "    .colab-df-convert {\n",
              "      background-color: #E8F0FE;\n",
              "      border: none;\n",
              "      border-radius: 50%;\n",
              "      cursor: pointer;\n",
              "      display: none;\n",
              "      fill: #1967D2;\n",
              "      height: 32px;\n",
              "      padding: 0 0 0 0;\n",
              "      width: 32px;\n",
              "    }\n",
              "\n",
              "    .colab-df-convert:hover {\n",
              "      background-color: #E2EBFA;\n",
              "      box-shadow: 0px 1px 2px rgba(60, 64, 67, 0.3), 0px 1px 3px 1px rgba(60, 64, 67, 0.15);\n",
              "      fill: #174EA6;\n",
              "    }\n",
              "\n",
              "    .colab-df-buttons div {\n",
              "      margin-bottom: 4px;\n",
              "    }\n",
              "\n",
              "    [theme=dark] .colab-df-convert {\n",
              "      background-color: #3B4455;\n",
              "      fill: #D2E3FC;\n",
              "    }\n",
              "\n",
              "    [theme=dark] .colab-df-convert:hover {\n",
              "      background-color: #434B5C;\n",
              "      box-shadow: 0px 1px 3px 1px rgba(0, 0, 0, 0.15);\n",
              "      filter: drop-shadow(0px 1px 2px rgba(0, 0, 0, 0.3));\n",
              "      fill: #FFFFFF;\n",
              "    }\n",
              "  </style>\n",
              "\n",
              "    <script>\n",
              "      const buttonEl =\n",
              "        document.querySelector('#df-f49330ec-e44d-4c54-8a7e-9f9be181812a button.colab-df-convert');\n",
              "      buttonEl.style.display =\n",
              "        google.colab.kernel.accessAllowed ? 'block' : 'none';\n",
              "\n",
              "      async function convertToInteractive(key) {\n",
              "        const element = document.querySelector('#df-f49330ec-e44d-4c54-8a7e-9f9be181812a');\n",
              "        const dataTable =\n",
              "          await google.colab.kernel.invokeFunction('convertToInteractive',\n",
              "                                                    [key], {});\n",
              "        if (!dataTable) return;\n",
              "\n",
              "        const docLinkHtml = 'Like what you see? Visit the ' +\n",
              "          '<a target=\"_blank\" href=https://colab.research.google.com/notebooks/data_table.ipynb>data table notebook</a>'\n",
              "          + ' to learn more about interactive tables.';\n",
              "        element.innerHTML = '';\n",
              "        dataTable['output_type'] = 'display_data';\n",
              "        await google.colab.output.renderOutput(dataTable, element);\n",
              "        const docLink = document.createElement('div');\n",
              "        docLink.innerHTML = docLinkHtml;\n",
              "        element.appendChild(docLink);\n",
              "      }\n",
              "    </script>\n",
              "  </div>\n",
              "\n",
              "\n",
              "<div id=\"df-6de120a8-7947-4264-8461-54c301b63c3a\">\n",
              "  <button class=\"colab-df-quickchart\" onclick=\"quickchart('df-6de120a8-7947-4264-8461-54c301b63c3a')\"\n",
              "            title=\"Suggest charts.\"\n",
              "            style=\"display:none;\">\n",
              "\n",
              "<svg xmlns=\"http://www.w3.org/2000/svg\" height=\"24px\"viewBox=\"0 0 24 24\"\n",
              "     width=\"24px\">\n",
              "    <g>\n",
              "        <path d=\"M19 3H5c-1.1 0-2 .9-2 2v14c0 1.1.9 2 2 2h14c1.1 0 2-.9 2-2V5c0-1.1-.9-2-2-2zM9 17H7v-7h2v7zm4 0h-2V7h2v10zm4 0h-2v-4h2v4z\"/>\n",
              "    </g>\n",
              "</svg>\n",
              "  </button>\n",
              "\n",
              "<style>\n",
              "  .colab-df-quickchart {\n",
              "      --bg-color: #E8F0FE;\n",
              "      --fill-color: #1967D2;\n",
              "      --hover-bg-color: #E2EBFA;\n",
              "      --hover-fill-color: #174EA6;\n",
              "      --disabled-fill-color: #AAA;\n",
              "      --disabled-bg-color: #DDD;\n",
              "  }\n",
              "\n",
              "  [theme=dark] .colab-df-quickchart {\n",
              "      --bg-color: #3B4455;\n",
              "      --fill-color: #D2E3FC;\n",
              "      --hover-bg-color: #434B5C;\n",
              "      --hover-fill-color: #FFFFFF;\n",
              "      --disabled-bg-color: #3B4455;\n",
              "      --disabled-fill-color: #666;\n",
              "  }\n",
              "\n",
              "  .colab-df-quickchart {\n",
              "    background-color: var(--bg-color);\n",
              "    border: none;\n",
              "    border-radius: 50%;\n",
              "    cursor: pointer;\n",
              "    display: none;\n",
              "    fill: var(--fill-color);\n",
              "    height: 32px;\n",
              "    padding: 0;\n",
              "    width: 32px;\n",
              "  }\n",
              "\n",
              "  .colab-df-quickchart:hover {\n",
              "    background-color: var(--hover-bg-color);\n",
              "    box-shadow: 0 1px 2px rgba(60, 64, 67, 0.3), 0 1px 3px 1px rgba(60, 64, 67, 0.15);\n",
              "    fill: var(--button-hover-fill-color);\n",
              "  }\n",
              "\n",
              "  .colab-df-quickchart-complete:disabled,\n",
              "  .colab-df-quickchart-complete:disabled:hover {\n",
              "    background-color: var(--disabled-bg-color);\n",
              "    fill: var(--disabled-fill-color);\n",
              "    box-shadow: none;\n",
              "  }\n",
              "\n",
              "  .colab-df-spinner {\n",
              "    border: 2px solid var(--fill-color);\n",
              "    border-color: transparent;\n",
              "    border-bottom-color: var(--fill-color);\n",
              "    animation:\n",
              "      spin 1s steps(1) infinite;\n",
              "  }\n",
              "\n",
              "  @keyframes spin {\n",
              "    0% {\n",
              "      border-color: transparent;\n",
              "      border-bottom-color: var(--fill-color);\n",
              "      border-left-color: var(--fill-color);\n",
              "    }\n",
              "    20% {\n",
              "      border-color: transparent;\n",
              "      border-left-color: var(--fill-color);\n",
              "      border-top-color: var(--fill-color);\n",
              "    }\n",
              "    30% {\n",
              "      border-color: transparent;\n",
              "      border-left-color: var(--fill-color);\n",
              "      border-top-color: var(--fill-color);\n",
              "      border-right-color: var(--fill-color);\n",
              "    }\n",
              "    40% {\n",
              "      border-color: transparent;\n",
              "      border-right-color: var(--fill-color);\n",
              "      border-top-color: var(--fill-color);\n",
              "    }\n",
              "    60% {\n",
              "      border-color: transparent;\n",
              "      border-right-color: var(--fill-color);\n",
              "    }\n",
              "    80% {\n",
              "      border-color: transparent;\n",
              "      border-right-color: var(--fill-color);\n",
              "      border-bottom-color: var(--fill-color);\n",
              "    }\n",
              "    90% {\n",
              "      border-color: transparent;\n",
              "      border-bottom-color: var(--fill-color);\n",
              "    }\n",
              "  }\n",
              "</style>\n",
              "\n",
              "  <script>\n",
              "    async function quickchart(key) {\n",
              "      const quickchartButtonEl =\n",
              "        document.querySelector('#' + key + ' button');\n",
              "      quickchartButtonEl.disabled = true;  // To prevent multiple clicks.\n",
              "      quickchartButtonEl.classList.add('colab-df-spinner');\n",
              "      try {\n",
              "        const charts = await google.colab.kernel.invokeFunction(\n",
              "            'suggestCharts', [key], {});\n",
              "      } catch (error) {\n",
              "        console.error('Error during call to suggestCharts:', error);\n",
              "      }\n",
              "      quickchartButtonEl.classList.remove('colab-df-spinner');\n",
              "      quickchartButtonEl.classList.add('colab-df-quickchart-complete');\n",
              "    }\n",
              "    (() => {\n",
              "      let quickchartButtonEl =\n",
              "        document.querySelector('#df-6de120a8-7947-4264-8461-54c301b63c3a button');\n",
              "      quickchartButtonEl.style.display =\n",
              "        google.colab.kernel.accessAllowed ? 'block' : 'none';\n",
              "    })();\n",
              "  </script>\n",
              "</div>\n",
              "    </div>\n",
              "  </div>\n"
            ]
          },
          "metadata": {},
          "execution_count": 16
        }
      ]
    },
    {
      "cell_type": "code",
      "execution_count": 17,
      "metadata": {
        "id": "UGrVLlOTxFG0"
      },
      "outputs": [],
      "source": [
        "segment = pd.read_excel('/content/GMD_ Access_Layer_Data_Understanding_17_11_22.xlsx',sheet_name='Segment - Brand Mapping', skiprows=2)\n",
        "segment = segment[segment.columns[1:]]"
      ]
    },
    {
      "cell_type": "code",
      "execution_count": 18,
      "metadata": {
        "colab": {
          "base_uri": "https://localhost:8080/",
          "height": 206
        },
        "id": "PJZ79hMQsIlQ",
        "outputId": "7c13506a-2d18-41bc-fe27-75bcae06b5f3"
      },
      "outputs": [
        {
          "output_type": "execute_result",
          "data": {
            "text/plain": [
              "         Brand    Segment\n",
              "0     Snickers  Chocolate\n",
              "1        M&M's  Chocolate\n",
              "2    Maltesers  Chocolate\n",
              "3  Dove Galaxy  Chocolate\n",
              "4       Galaxy  Chocolate"
            ],
            "text/html": [
              "\n",
              "  <div id=\"df-9264732f-b82c-4be5-b1e8-2e8b0d32cefd\" class=\"colab-df-container\">\n",
              "    <div>\n",
              "<style scoped>\n",
              "    .dataframe tbody tr th:only-of-type {\n",
              "        vertical-align: middle;\n",
              "    }\n",
              "\n",
              "    .dataframe tbody tr th {\n",
              "        vertical-align: top;\n",
              "    }\n",
              "\n",
              "    .dataframe thead th {\n",
              "        text-align: right;\n",
              "    }\n",
              "</style>\n",
              "<table border=\"1\" class=\"dataframe\">\n",
              "  <thead>\n",
              "    <tr style=\"text-align: right;\">\n",
              "      <th></th>\n",
              "      <th>Brand</th>\n",
              "      <th>Segment</th>\n",
              "    </tr>\n",
              "  </thead>\n",
              "  <tbody>\n",
              "    <tr>\n",
              "      <th>0</th>\n",
              "      <td>Snickers</td>\n",
              "      <td>Chocolate</td>\n",
              "    </tr>\n",
              "    <tr>\n",
              "      <th>1</th>\n",
              "      <td>M&amp;M's</td>\n",
              "      <td>Chocolate</td>\n",
              "    </tr>\n",
              "    <tr>\n",
              "      <th>2</th>\n",
              "      <td>Maltesers</td>\n",
              "      <td>Chocolate</td>\n",
              "    </tr>\n",
              "    <tr>\n",
              "      <th>3</th>\n",
              "      <td>Dove Galaxy</td>\n",
              "      <td>Chocolate</td>\n",
              "    </tr>\n",
              "    <tr>\n",
              "      <th>4</th>\n",
              "      <td>Galaxy</td>\n",
              "      <td>Chocolate</td>\n",
              "    </tr>\n",
              "  </tbody>\n",
              "</table>\n",
              "</div>\n",
              "    <div class=\"colab-df-buttons\">\n",
              "\n",
              "  <div class=\"colab-df-container\">\n",
              "    <button class=\"colab-df-convert\" onclick=\"convertToInteractive('df-9264732f-b82c-4be5-b1e8-2e8b0d32cefd')\"\n",
              "            title=\"Convert this dataframe to an interactive table.\"\n",
              "            style=\"display:none;\">\n",
              "\n",
              "  <svg xmlns=\"http://www.w3.org/2000/svg\" height=\"24px\" viewBox=\"0 -960 960 960\">\n",
              "    <path d=\"M120-120v-720h720v720H120Zm60-500h600v-160H180v160Zm220 220h160v-160H400v160Zm0 220h160v-160H400v160ZM180-400h160v-160H180v160Zm440 0h160v-160H620v160ZM180-180h160v-160H180v160Zm440 0h160v-160H620v160Z\"/>\n",
              "  </svg>\n",
              "    </button>\n",
              "\n",
              "  <style>\n",
              "    .colab-df-container {\n",
              "      display:flex;\n",
              "      gap: 12px;\n",
              "    }\n",
              "\n",
              "    .colab-df-convert {\n",
              "      background-color: #E8F0FE;\n",
              "      border: none;\n",
              "      border-radius: 50%;\n",
              "      cursor: pointer;\n",
              "      display: none;\n",
              "      fill: #1967D2;\n",
              "      height: 32px;\n",
              "      padding: 0 0 0 0;\n",
              "      width: 32px;\n",
              "    }\n",
              "\n",
              "    .colab-df-convert:hover {\n",
              "      background-color: #E2EBFA;\n",
              "      box-shadow: 0px 1px 2px rgba(60, 64, 67, 0.3), 0px 1px 3px 1px rgba(60, 64, 67, 0.15);\n",
              "      fill: #174EA6;\n",
              "    }\n",
              "\n",
              "    .colab-df-buttons div {\n",
              "      margin-bottom: 4px;\n",
              "    }\n",
              "\n",
              "    [theme=dark] .colab-df-convert {\n",
              "      background-color: #3B4455;\n",
              "      fill: #D2E3FC;\n",
              "    }\n",
              "\n",
              "    [theme=dark] .colab-df-convert:hover {\n",
              "      background-color: #434B5C;\n",
              "      box-shadow: 0px 1px 3px 1px rgba(0, 0, 0, 0.15);\n",
              "      filter: drop-shadow(0px 1px 2px rgba(0, 0, 0, 0.3));\n",
              "      fill: #FFFFFF;\n",
              "    }\n",
              "  </style>\n",
              "\n",
              "    <script>\n",
              "      const buttonEl =\n",
              "        document.querySelector('#df-9264732f-b82c-4be5-b1e8-2e8b0d32cefd button.colab-df-convert');\n",
              "      buttonEl.style.display =\n",
              "        google.colab.kernel.accessAllowed ? 'block' : 'none';\n",
              "\n",
              "      async function convertToInteractive(key) {\n",
              "        const element = document.querySelector('#df-9264732f-b82c-4be5-b1e8-2e8b0d32cefd');\n",
              "        const dataTable =\n",
              "          await google.colab.kernel.invokeFunction('convertToInteractive',\n",
              "                                                    [key], {});\n",
              "        if (!dataTable) return;\n",
              "\n",
              "        const docLinkHtml = 'Like what you see? Visit the ' +\n",
              "          '<a target=\"_blank\" href=https://colab.research.google.com/notebooks/data_table.ipynb>data table notebook</a>'\n",
              "          + ' to learn more about interactive tables.';\n",
              "        element.innerHTML = '';\n",
              "        dataTable['output_type'] = 'display_data';\n",
              "        await google.colab.output.renderOutput(dataTable, element);\n",
              "        const docLink = document.createElement('div');\n",
              "        docLink.innerHTML = docLinkHtml;\n",
              "        element.appendChild(docLink);\n",
              "      }\n",
              "    </script>\n",
              "  </div>\n",
              "\n",
              "\n",
              "<div id=\"df-1e9a850b-7123-467b-b380-1d2194e8637c\">\n",
              "  <button class=\"colab-df-quickchart\" onclick=\"quickchart('df-1e9a850b-7123-467b-b380-1d2194e8637c')\"\n",
              "            title=\"Suggest charts.\"\n",
              "            style=\"display:none;\">\n",
              "\n",
              "<svg xmlns=\"http://www.w3.org/2000/svg\" height=\"24px\"viewBox=\"0 0 24 24\"\n",
              "     width=\"24px\">\n",
              "    <g>\n",
              "        <path d=\"M19 3H5c-1.1 0-2 .9-2 2v14c0 1.1.9 2 2 2h14c1.1 0 2-.9 2-2V5c0-1.1-.9-2-2-2zM9 17H7v-7h2v7zm4 0h-2V7h2v10zm4 0h-2v-4h2v4z\"/>\n",
              "    </g>\n",
              "</svg>\n",
              "  </button>\n",
              "\n",
              "<style>\n",
              "  .colab-df-quickchart {\n",
              "      --bg-color: #E8F0FE;\n",
              "      --fill-color: #1967D2;\n",
              "      --hover-bg-color: #E2EBFA;\n",
              "      --hover-fill-color: #174EA6;\n",
              "      --disabled-fill-color: #AAA;\n",
              "      --disabled-bg-color: #DDD;\n",
              "  }\n",
              "\n",
              "  [theme=dark] .colab-df-quickchart {\n",
              "      --bg-color: #3B4455;\n",
              "      --fill-color: #D2E3FC;\n",
              "      --hover-bg-color: #434B5C;\n",
              "      --hover-fill-color: #FFFFFF;\n",
              "      --disabled-bg-color: #3B4455;\n",
              "      --disabled-fill-color: #666;\n",
              "  }\n",
              "\n",
              "  .colab-df-quickchart {\n",
              "    background-color: var(--bg-color);\n",
              "    border: none;\n",
              "    border-radius: 50%;\n",
              "    cursor: pointer;\n",
              "    display: none;\n",
              "    fill: var(--fill-color);\n",
              "    height: 32px;\n",
              "    padding: 0;\n",
              "    width: 32px;\n",
              "  }\n",
              "\n",
              "  .colab-df-quickchart:hover {\n",
              "    background-color: var(--hover-bg-color);\n",
              "    box-shadow: 0 1px 2px rgba(60, 64, 67, 0.3), 0 1px 3px 1px rgba(60, 64, 67, 0.15);\n",
              "    fill: var(--button-hover-fill-color);\n",
              "  }\n",
              "\n",
              "  .colab-df-quickchart-complete:disabled,\n",
              "  .colab-df-quickchart-complete:disabled:hover {\n",
              "    background-color: var(--disabled-bg-color);\n",
              "    fill: var(--disabled-fill-color);\n",
              "    box-shadow: none;\n",
              "  }\n",
              "\n",
              "  .colab-df-spinner {\n",
              "    border: 2px solid var(--fill-color);\n",
              "    border-color: transparent;\n",
              "    border-bottom-color: var(--fill-color);\n",
              "    animation:\n",
              "      spin 1s steps(1) infinite;\n",
              "  }\n",
              "\n",
              "  @keyframes spin {\n",
              "    0% {\n",
              "      border-color: transparent;\n",
              "      border-bottom-color: var(--fill-color);\n",
              "      border-left-color: var(--fill-color);\n",
              "    }\n",
              "    20% {\n",
              "      border-color: transparent;\n",
              "      border-left-color: var(--fill-color);\n",
              "      border-top-color: var(--fill-color);\n",
              "    }\n",
              "    30% {\n",
              "      border-color: transparent;\n",
              "      border-left-color: var(--fill-color);\n",
              "      border-top-color: var(--fill-color);\n",
              "      border-right-color: var(--fill-color);\n",
              "    }\n",
              "    40% {\n",
              "      border-color: transparent;\n",
              "      border-right-color: var(--fill-color);\n",
              "      border-top-color: var(--fill-color);\n",
              "    }\n",
              "    60% {\n",
              "      border-color: transparent;\n",
              "      border-right-color: var(--fill-color);\n",
              "    }\n",
              "    80% {\n",
              "      border-color: transparent;\n",
              "      border-right-color: var(--fill-color);\n",
              "      border-bottom-color: var(--fill-color);\n",
              "    }\n",
              "    90% {\n",
              "      border-color: transparent;\n",
              "      border-bottom-color: var(--fill-color);\n",
              "    }\n",
              "  }\n",
              "</style>\n",
              "\n",
              "  <script>\n",
              "    async function quickchart(key) {\n",
              "      const quickchartButtonEl =\n",
              "        document.querySelector('#' + key + ' button');\n",
              "      quickchartButtonEl.disabled = true;  // To prevent multiple clicks.\n",
              "      quickchartButtonEl.classList.add('colab-df-spinner');\n",
              "      try {\n",
              "        const charts = await google.colab.kernel.invokeFunction(\n",
              "            'suggestCharts', [key], {});\n",
              "      } catch (error) {\n",
              "        console.error('Error during call to suggestCharts:', error);\n",
              "      }\n",
              "      quickchartButtonEl.classList.remove('colab-df-spinner');\n",
              "      quickchartButtonEl.classList.add('colab-df-quickchart-complete');\n",
              "    }\n",
              "    (() => {\n",
              "      let quickchartButtonEl =\n",
              "        document.querySelector('#df-1e9a850b-7123-467b-b380-1d2194e8637c button');\n",
              "      quickchartButtonEl.style.display =\n",
              "        google.colab.kernel.accessAllowed ? 'block' : 'none';\n",
              "    })();\n",
              "  </script>\n",
              "</div>\n",
              "    </div>\n",
              "  </div>\n"
            ]
          },
          "metadata": {},
          "execution_count": 18
        }
      ],
      "source": [
        "segment.head()"
      ]
    },
    {
      "cell_type": "code",
      "execution_count": 19,
      "metadata": {
        "colab": {
          "base_uri": "https://localhost:8080/"
        },
        "id": "Hr1y_Dh7sIjV",
        "outputId": "56cd3f88-9f00-4b3b-ed2c-1d0508c04318"
      },
      "outputs": [
        {
          "output_type": "execute_result",
          "data": {
            "text/plain": [
              "((3805468, 47), (3805468, 47))"
            ]
          },
          "metadata": {},
          "execution_count": 19
        }
      ],
      "source": [
        "df.shape, df.drop_duplicates().shape"
      ]
    },
    {
      "cell_type": "code",
      "source": [
        "df.drop_duplicates(inplace = True)"
      ],
      "metadata": {
        "id": "v3r4Nn5jgLkR"
      },
      "execution_count": 20,
      "outputs": []
    },
    {
      "cell_type": "code",
      "source": [
        "df.shape"
      ],
      "metadata": {
        "colab": {
          "base_uri": "https://localhost:8080/"
        },
        "id": "lshOovPnjiVL",
        "outputId": "5dd89045-0d27-4a47-a2a3-2d79ea067815"
      },
      "execution_count": null,
      "outputs": [
        {
          "output_type": "execute_result",
          "data": {
            "text/plain": [
              "(3805468, 47)"
            ]
          },
          "metadata": {},
          "execution_count": 24
        }
      ]
    },
    {
      "cell_type": "code",
      "execution_count": null,
      "metadata": {
        "colab": {
          "base_uri": "https://localhost:8080/"
        },
        "id": "CWP3UavusIgf",
        "outputId": "1403294e-51ab-4fb3-b125-34e26b4dca4e"
      },
      "outputs": [
        {
          "output_type": "execute_result",
          "data": {
            "text/plain": [
              "Index(['Brand (Final) [Brand Classification Rule]', 'Main Channel Category ',\n",
              "       'Publisher - (Calculated)',\n",
              "       'Country(Final) [Country Classification Rule]', 'Campaign Advertiser',\n",
              "       'Campaign Advertiser ID', 'Campaign Key', 'Campaign Name',\n",
              "       'Campaign Category', 'Region(Final) [Country Classification Rule]',\n",
              "       'Creative Format', 'Creative Key', 'Creative Name', 'Exchange Key',\n",
              "       'Exchange Name', 'Media Buy Key', 'Media Buy Name', 'Media Buy Type',\n",
              "       'Strategy Key', 'Strategy Name', 'Site Key', 'Domain_Name', 'Day',\n",
              "       'Source Platform', 'Currency (Original)', 'Clicks',\n",
              "       'Media Cost (Original)', 'Impressions', 'Measurable Impressions',\n",
              "       'Video Avg. Duration (Seconds)', 'Video Completions 25%',\n",
              "       'Video Completions 25% Rate', 'Video Completions 50%',\n",
              "       'Video Completions 50% Rate', 'Video Completions 75%',\n",
              "       'Video Completions 75% Rate', 'Video Fully Played',\n",
              "       'Video Fully Played Rate', 'Video Plays', 'Video Views',\n",
              "       'Video Views Rate', 'Viewable Impressions', 'CPM', 'CTR',\n",
              "       'Total Conversions', 'CPV', 'CPCV'],\n",
              "      dtype='object')"
            ]
          },
          "metadata": {},
          "execution_count": 25
        }
      ],
      "source": [
        "df.columns"
      ]
    },
    {
      "cell_type": "code",
      "execution_count": 21,
      "metadata": {
        "id": "JEx5-b15sId_"
      },
      "outputs": [],
      "source": [
        "pdf = df[['Brand (Final) [Brand Classification Rule]','Main Channel Category ','Source Platform','Campaign Name','Clicks',\n",
        "    'Impressions','Video Views','Media Cost (Original)','Video Fully Played']]"
      ]
    },
    {
      "cell_type": "code",
      "execution_count": 22,
      "metadata": {
        "id": "irRR400XsIbP"
      },
      "outputs": [],
      "source": [
        "pdf = pd.merge(pdf, segment, how = 'left', left_on='Brand (Final) [Brand Classification Rule]', right_on='Brand')\n",
        "pdf.drop('Brand', axis=1, inplace=True)"
      ]
    },
    {
      "cell_type": "code",
      "execution_count": 23,
      "metadata": {
        "id": "duTb7tXaxzDM"
      },
      "outputs": [],
      "source": [
        "pdf = pdf.rename(columns={'Brand (Final) [Brand Classification Rule]': 'brand',\n",
        "                        'Main Channel Category ': 'channel',\n",
        "                        'Source Platform': 'platform',\n",
        "                        'Campaign Name': 'campaign_name',\n",
        "                        'Clicks': 'clicks',\n",
        "                        'Impressions': 'impressions',\n",
        "                        'Video Views': 'views',\n",
        "                        'Media Cost (Original)': 'actual_spend_local_currency',\n",
        "                        'Video Fully Played': 'video_fully_played',\n",
        "                        'Segment': 'cell'\n",
        "                       })"
      ]
    },
    {
      "cell_type": "code",
      "execution_count": 24,
      "metadata": {
        "id": "91xVXbC1vY4v"
      },
      "outputs": [],
      "source": [
        "pdf[\"clicks\"] = pd.to_numeric(pdf[\"clicks\"])\n",
        "pdf[\"impressions\"] = pd.to_numeric(pdf[\"impressions\"])\n",
        "pdf[\"views\"] = pd.to_numeric(pdf[\"views\"])"
      ]
    },
    {
      "cell_type": "code",
      "execution_count": 25,
      "metadata": {
        "id": "_U0RWnROx5it"
      },
      "outputs": [],
      "source": [
        "pdf.insert(0, 'country_id', country)"
      ]
    },
    {
      "cell_type": "code",
      "execution_count": 26,
      "metadata": {
        "colab": {
          "base_uri": "https://localhost:8080/",
          "height": 313
        },
        "id": "08zOaK-Lr38d",
        "outputId": "e004eba5-3417-4730-be06-de0772e05e22"
      },
      "outputs": [
        {
          "output_type": "execute_result",
          "data": {
            "text/plain": [
              "  country_id    brand       channel    platform  \\\n",
              "0         FR  Whiskas  Programmatic  Amazon DSP   \n",
              "1         FR  Whiskas  Programmatic  Amazon DSP   \n",
              "2         FR  Whiskas  Programmatic  Amazon DSP   \n",
              "3         FR  Whiskas  Programmatic  Amazon DSP   \n",
              "4         FR  Whiskas  Programmatic  Amazon DSP   \n",
              "\n",
              "                                       campaign_name  clicks  impressions  \\\n",
              "0  fr_whiskas_petcare_europe_mm_dcom_dis_23_01_p0...       0            1   \n",
              "1  fr_whiskas_petcare_europe_mm_dcom_dis_23_01_p0...       0            2   \n",
              "2  fr_whiskas_petcare_europe_mm_dcom_dis_23_01_p0...       0            1   \n",
              "3  fr_whiskas_petcare_europe_mm_dcom_dis_23_01_p0...       0            1   \n",
              "4  fr_whiskas_petcare_europe_mm_dcom_dis_23_01_p0...       0           10   \n",
              "\n",
              "   views  actual_spend_local_currency  video_fully_played cell  \n",
              "0    0.0                      0.00131                   0  NaN  \n",
              "1    0.0                      0.00138                   0  NaN  \n",
              "2    0.0                      0.00097                   0  NaN  \n",
              "3    0.0                      0.00085                   0  NaN  \n",
              "4    0.0                      0.01079                   0  NaN  "
            ],
            "text/html": [
              "\n",
              "  <div id=\"df-fa6fd8b9-4eaf-495b-b7c0-9b4d0eaad608\" class=\"colab-df-container\">\n",
              "    <div>\n",
              "<style scoped>\n",
              "    .dataframe tbody tr th:only-of-type {\n",
              "        vertical-align: middle;\n",
              "    }\n",
              "\n",
              "    .dataframe tbody tr th {\n",
              "        vertical-align: top;\n",
              "    }\n",
              "\n",
              "    .dataframe thead th {\n",
              "        text-align: right;\n",
              "    }\n",
              "</style>\n",
              "<table border=\"1\" class=\"dataframe\">\n",
              "  <thead>\n",
              "    <tr style=\"text-align: right;\">\n",
              "      <th></th>\n",
              "      <th>country_id</th>\n",
              "      <th>brand</th>\n",
              "      <th>channel</th>\n",
              "      <th>platform</th>\n",
              "      <th>campaign_name</th>\n",
              "      <th>clicks</th>\n",
              "      <th>impressions</th>\n",
              "      <th>views</th>\n",
              "      <th>actual_spend_local_currency</th>\n",
              "      <th>video_fully_played</th>\n",
              "      <th>cell</th>\n",
              "    </tr>\n",
              "  </thead>\n",
              "  <tbody>\n",
              "    <tr>\n",
              "      <th>0</th>\n",
              "      <td>FR</td>\n",
              "      <td>Whiskas</td>\n",
              "      <td>Programmatic</td>\n",
              "      <td>Amazon DSP</td>\n",
              "      <td>fr_whiskas_petcare_europe_mm_dcom_dis_23_01_p0...</td>\n",
              "      <td>0</td>\n",
              "      <td>1</td>\n",
              "      <td>0.0</td>\n",
              "      <td>0.00131</td>\n",
              "      <td>0</td>\n",
              "      <td>NaN</td>\n",
              "    </tr>\n",
              "    <tr>\n",
              "      <th>1</th>\n",
              "      <td>FR</td>\n",
              "      <td>Whiskas</td>\n",
              "      <td>Programmatic</td>\n",
              "      <td>Amazon DSP</td>\n",
              "      <td>fr_whiskas_petcare_europe_mm_dcom_dis_23_01_p0...</td>\n",
              "      <td>0</td>\n",
              "      <td>2</td>\n",
              "      <td>0.0</td>\n",
              "      <td>0.00138</td>\n",
              "      <td>0</td>\n",
              "      <td>NaN</td>\n",
              "    </tr>\n",
              "    <tr>\n",
              "      <th>2</th>\n",
              "      <td>FR</td>\n",
              "      <td>Whiskas</td>\n",
              "      <td>Programmatic</td>\n",
              "      <td>Amazon DSP</td>\n",
              "      <td>fr_whiskas_petcare_europe_mm_dcom_dis_23_01_p0...</td>\n",
              "      <td>0</td>\n",
              "      <td>1</td>\n",
              "      <td>0.0</td>\n",
              "      <td>0.00097</td>\n",
              "      <td>0</td>\n",
              "      <td>NaN</td>\n",
              "    </tr>\n",
              "    <tr>\n",
              "      <th>3</th>\n",
              "      <td>FR</td>\n",
              "      <td>Whiskas</td>\n",
              "      <td>Programmatic</td>\n",
              "      <td>Amazon DSP</td>\n",
              "      <td>fr_whiskas_petcare_europe_mm_dcom_dis_23_01_p0...</td>\n",
              "      <td>0</td>\n",
              "      <td>1</td>\n",
              "      <td>0.0</td>\n",
              "      <td>0.00085</td>\n",
              "      <td>0</td>\n",
              "      <td>NaN</td>\n",
              "    </tr>\n",
              "    <tr>\n",
              "      <th>4</th>\n",
              "      <td>FR</td>\n",
              "      <td>Whiskas</td>\n",
              "      <td>Programmatic</td>\n",
              "      <td>Amazon DSP</td>\n",
              "      <td>fr_whiskas_petcare_europe_mm_dcom_dis_23_01_p0...</td>\n",
              "      <td>0</td>\n",
              "      <td>10</td>\n",
              "      <td>0.0</td>\n",
              "      <td>0.01079</td>\n",
              "      <td>0</td>\n",
              "      <td>NaN</td>\n",
              "    </tr>\n",
              "  </tbody>\n",
              "</table>\n",
              "</div>\n",
              "    <div class=\"colab-df-buttons\">\n",
              "\n",
              "  <div class=\"colab-df-container\">\n",
              "    <button class=\"colab-df-convert\" onclick=\"convertToInteractive('df-fa6fd8b9-4eaf-495b-b7c0-9b4d0eaad608')\"\n",
              "            title=\"Convert this dataframe to an interactive table.\"\n",
              "            style=\"display:none;\">\n",
              "\n",
              "  <svg xmlns=\"http://www.w3.org/2000/svg\" height=\"24px\" viewBox=\"0 -960 960 960\">\n",
              "    <path d=\"M120-120v-720h720v720H120Zm60-500h600v-160H180v160Zm220 220h160v-160H400v160Zm0 220h160v-160H400v160ZM180-400h160v-160H180v160Zm440 0h160v-160H620v160ZM180-180h160v-160H180v160Zm440 0h160v-160H620v160Z\"/>\n",
              "  </svg>\n",
              "    </button>\n",
              "\n",
              "  <style>\n",
              "    .colab-df-container {\n",
              "      display:flex;\n",
              "      gap: 12px;\n",
              "    }\n",
              "\n",
              "    .colab-df-convert {\n",
              "      background-color: #E8F0FE;\n",
              "      border: none;\n",
              "      border-radius: 50%;\n",
              "      cursor: pointer;\n",
              "      display: none;\n",
              "      fill: #1967D2;\n",
              "      height: 32px;\n",
              "      padding: 0 0 0 0;\n",
              "      width: 32px;\n",
              "    }\n",
              "\n",
              "    .colab-df-convert:hover {\n",
              "      background-color: #E2EBFA;\n",
              "      box-shadow: 0px 1px 2px rgba(60, 64, 67, 0.3), 0px 1px 3px 1px rgba(60, 64, 67, 0.15);\n",
              "      fill: #174EA6;\n",
              "    }\n",
              "\n",
              "    .colab-df-buttons div {\n",
              "      margin-bottom: 4px;\n",
              "    }\n",
              "\n",
              "    [theme=dark] .colab-df-convert {\n",
              "      background-color: #3B4455;\n",
              "      fill: #D2E3FC;\n",
              "    }\n",
              "\n",
              "    [theme=dark] .colab-df-convert:hover {\n",
              "      background-color: #434B5C;\n",
              "      box-shadow: 0px 1px 3px 1px rgba(0, 0, 0, 0.15);\n",
              "      filter: drop-shadow(0px 1px 2px rgba(0, 0, 0, 0.3));\n",
              "      fill: #FFFFFF;\n",
              "    }\n",
              "  </style>\n",
              "\n",
              "    <script>\n",
              "      const buttonEl =\n",
              "        document.querySelector('#df-fa6fd8b9-4eaf-495b-b7c0-9b4d0eaad608 button.colab-df-convert');\n",
              "      buttonEl.style.display =\n",
              "        google.colab.kernel.accessAllowed ? 'block' : 'none';\n",
              "\n",
              "      async function convertToInteractive(key) {\n",
              "        const element = document.querySelector('#df-fa6fd8b9-4eaf-495b-b7c0-9b4d0eaad608');\n",
              "        const dataTable =\n",
              "          await google.colab.kernel.invokeFunction('convertToInteractive',\n",
              "                                                    [key], {});\n",
              "        if (!dataTable) return;\n",
              "\n",
              "        const docLinkHtml = 'Like what you see? Visit the ' +\n",
              "          '<a target=\"_blank\" href=https://colab.research.google.com/notebooks/data_table.ipynb>data table notebook</a>'\n",
              "          + ' to learn more about interactive tables.';\n",
              "        element.innerHTML = '';\n",
              "        dataTable['output_type'] = 'display_data';\n",
              "        await google.colab.output.renderOutput(dataTable, element);\n",
              "        const docLink = document.createElement('div');\n",
              "        docLink.innerHTML = docLinkHtml;\n",
              "        element.appendChild(docLink);\n",
              "      }\n",
              "    </script>\n",
              "  </div>\n",
              "\n",
              "\n",
              "<div id=\"df-f9a8f63b-3ce1-4af8-bc3b-cac11ba926a4\">\n",
              "  <button class=\"colab-df-quickchart\" onclick=\"quickchart('df-f9a8f63b-3ce1-4af8-bc3b-cac11ba926a4')\"\n",
              "            title=\"Suggest charts.\"\n",
              "            style=\"display:none;\">\n",
              "\n",
              "<svg xmlns=\"http://www.w3.org/2000/svg\" height=\"24px\"viewBox=\"0 0 24 24\"\n",
              "     width=\"24px\">\n",
              "    <g>\n",
              "        <path d=\"M19 3H5c-1.1 0-2 .9-2 2v14c0 1.1.9 2 2 2h14c1.1 0 2-.9 2-2V5c0-1.1-.9-2-2-2zM9 17H7v-7h2v7zm4 0h-2V7h2v10zm4 0h-2v-4h2v4z\"/>\n",
              "    </g>\n",
              "</svg>\n",
              "  </button>\n",
              "\n",
              "<style>\n",
              "  .colab-df-quickchart {\n",
              "      --bg-color: #E8F0FE;\n",
              "      --fill-color: #1967D2;\n",
              "      --hover-bg-color: #E2EBFA;\n",
              "      --hover-fill-color: #174EA6;\n",
              "      --disabled-fill-color: #AAA;\n",
              "      --disabled-bg-color: #DDD;\n",
              "  }\n",
              "\n",
              "  [theme=dark] .colab-df-quickchart {\n",
              "      --bg-color: #3B4455;\n",
              "      --fill-color: #D2E3FC;\n",
              "      --hover-bg-color: #434B5C;\n",
              "      --hover-fill-color: #FFFFFF;\n",
              "      --disabled-bg-color: #3B4455;\n",
              "      --disabled-fill-color: #666;\n",
              "  }\n",
              "\n",
              "  .colab-df-quickchart {\n",
              "    background-color: var(--bg-color);\n",
              "    border: none;\n",
              "    border-radius: 50%;\n",
              "    cursor: pointer;\n",
              "    display: none;\n",
              "    fill: var(--fill-color);\n",
              "    height: 32px;\n",
              "    padding: 0;\n",
              "    width: 32px;\n",
              "  }\n",
              "\n",
              "  .colab-df-quickchart:hover {\n",
              "    background-color: var(--hover-bg-color);\n",
              "    box-shadow: 0 1px 2px rgba(60, 64, 67, 0.3), 0 1px 3px 1px rgba(60, 64, 67, 0.15);\n",
              "    fill: var(--button-hover-fill-color);\n",
              "  }\n",
              "\n",
              "  .colab-df-quickchart-complete:disabled,\n",
              "  .colab-df-quickchart-complete:disabled:hover {\n",
              "    background-color: var(--disabled-bg-color);\n",
              "    fill: var(--disabled-fill-color);\n",
              "    box-shadow: none;\n",
              "  }\n",
              "\n",
              "  .colab-df-spinner {\n",
              "    border: 2px solid var(--fill-color);\n",
              "    border-color: transparent;\n",
              "    border-bottom-color: var(--fill-color);\n",
              "    animation:\n",
              "      spin 1s steps(1) infinite;\n",
              "  }\n",
              "\n",
              "  @keyframes spin {\n",
              "    0% {\n",
              "      border-color: transparent;\n",
              "      border-bottom-color: var(--fill-color);\n",
              "      border-left-color: var(--fill-color);\n",
              "    }\n",
              "    20% {\n",
              "      border-color: transparent;\n",
              "      border-left-color: var(--fill-color);\n",
              "      border-top-color: var(--fill-color);\n",
              "    }\n",
              "    30% {\n",
              "      border-color: transparent;\n",
              "      border-left-color: var(--fill-color);\n",
              "      border-top-color: var(--fill-color);\n",
              "      border-right-color: var(--fill-color);\n",
              "    }\n",
              "    40% {\n",
              "      border-color: transparent;\n",
              "      border-right-color: var(--fill-color);\n",
              "      border-top-color: var(--fill-color);\n",
              "    }\n",
              "    60% {\n",
              "      border-color: transparent;\n",
              "      border-right-color: var(--fill-color);\n",
              "    }\n",
              "    80% {\n",
              "      border-color: transparent;\n",
              "      border-right-color: var(--fill-color);\n",
              "      border-bottom-color: var(--fill-color);\n",
              "    }\n",
              "    90% {\n",
              "      border-color: transparent;\n",
              "      border-bottom-color: var(--fill-color);\n",
              "    }\n",
              "  }\n",
              "</style>\n",
              "\n",
              "  <script>\n",
              "    async function quickchart(key) {\n",
              "      const quickchartButtonEl =\n",
              "        document.querySelector('#' + key + ' button');\n",
              "      quickchartButtonEl.disabled = true;  // To prevent multiple clicks.\n",
              "      quickchartButtonEl.classList.add('colab-df-spinner');\n",
              "      try {\n",
              "        const charts = await google.colab.kernel.invokeFunction(\n",
              "            'suggestCharts', [key], {});\n",
              "      } catch (error) {\n",
              "        console.error('Error during call to suggestCharts:', error);\n",
              "      }\n",
              "      quickchartButtonEl.classList.remove('colab-df-spinner');\n",
              "      quickchartButtonEl.classList.add('colab-df-quickchart-complete');\n",
              "    }\n",
              "    (() => {\n",
              "      let quickchartButtonEl =\n",
              "        document.querySelector('#df-f9a8f63b-3ce1-4af8-bc3b-cac11ba926a4 button');\n",
              "      quickchartButtonEl.style.display =\n",
              "        google.colab.kernel.accessAllowed ? 'block' : 'none';\n",
              "    })();\n",
              "  </script>\n",
              "</div>\n",
              "    </div>\n",
              "  </div>\n"
            ]
          },
          "metadata": {},
          "execution_count": 26
        }
      ],
      "source": [
        "pdf.head()"
      ]
    },
    {
      "cell_type": "code",
      "execution_count": 28,
      "metadata": {
        "colab": {
          "base_uri": "https://localhost:8080/"
        },
        "id": "fcabogGdyEXk",
        "outputId": "a274a6b5-ecbb-41f9-b6a6-023847b039de"
      },
      "outputs": [
        {
          "output_type": "execute_result",
          "data": {
            "text/plain": [
              "(3805468, 11)"
            ]
          },
          "metadata": {},
          "execution_count": 28
        }
      ],
      "source": [
        "pdf.shape"
      ]
    },
    {
      "cell_type": "code",
      "execution_count": 29,
      "metadata": {
        "id": "JKoxVQ1fyI3r"
      },
      "outputs": [],
      "source": [
        "object_list = list(pdf.select_dtypes(['object','datetime64']).columns)\n",
        "pdf[object_list] = pdf[object_list].fillna('NA')\n",
        "numeric_list = list(pdf.select_dtypes(['float']).columns)\n",
        "pdf[numeric_list] = pdf[numeric_list].fillna(0)"
      ]
    },
    {
      "cell_type": "code",
      "execution_count": 30,
      "metadata": {
        "id": "s2fQJ_SOyNEl",
        "colab": {
          "base_uri": "https://localhost:8080/"
        },
        "outputId": "e982c84a-b874-4faa-94e7-f833cab0f1de"
      },
      "outputs": [
        {
          "output_type": "execute_result",
          "data": {
            "text/plain": [
              "(3803636, 11)"
            ]
          },
          "metadata": {},
          "execution_count": 30
        }
      ],
      "source": [
        "pdf = pdf[pdf['platform'] != 'Campaign Manager']\n",
        "pdf.shape"
      ]
    },
    {
      "cell_type": "code",
      "execution_count": 31,
      "metadata": {
        "colab": {
          "base_uri": "https://localhost:8080/"
        },
        "id": "KMKSvGZFyPQ8",
        "outputId": "f2923fd8-6580-4ac3-c4fb-98f64f9ad3f9"
      },
      "outputs": [
        {
          "output_type": "stream",
          "name": "stderr",
          "text": [
            "<ipython-input-31-266828dd7ca3>:1: FutureWarning: Indexing with multiple keys (implicitly converted to a tuple of keys) will be deprecated, use a list instead.\n",
            "  final = pdf.groupby(['country_id','cell','brand','channel','platform','campaign_name'])['clicks','impressions','views','actual_spend_local_currency','video_fully_played'].sum().reset_index()\n"
          ]
        }
      ],
      "source": [
        "final = pdf.groupby(['country_id','cell','brand','channel','platform','campaign_name'])['clicks','impressions','views','actual_spend_local_currency','video_fully_played'].sum().reset_index()"
      ]
    },
    {
      "cell_type": "code",
      "execution_count": 34,
      "metadata": {
        "colab": {
          "base_uri": "https://localhost:8080/",
          "height": 313
        },
        "id": "5NpUgzRnyU1k",
        "outputId": "6dc5667c-461f-4d4c-c431-8ca55f0dea87"
      },
      "outputs": [
        {
          "output_type": "execute_result",
          "data": {
            "text/plain": [
              "  country_id cell     brand       channel       platform  \\\n",
              "0         FR   NA  Pedigree  Programmatic     Amazon DSP   \n",
              "1         FR   NA  Pedigree  Programmatic     Amazon DSP   \n",
              "2         FR   NA  Pedigree  Programmatic     Amazon DSP   \n",
              "3         FR   NA  Pedigree  Programmatic     Amazon DSP   \n",
              "4         FR   NA  Pedigree  Programmatic  Dv360-YouTube   \n",
              "\n",
              "                                       campaign_name  clicks  impressions  \\\n",
              "0  fr_pedigree_petcare_europe_ct_brand_dis_23_01_...    6306      6738068   \n",
              "1  fr_pedigree_petcare_europe_ct_brand_vid_23_01_...    3828      1919319   \n",
              "2  fr_pedigree_petcare_europe_ct_dcom_dis_22_11_p...    2169      2037857   \n",
              "3  fr_pedigree_petcare_europe_ct_dcom_dis_22_11_p...    1491      1409381   \n",
              "4  fr_pdg_p1-alien-vnp_pn_eur_dmm_brand_olv_aware...    5420      4970016   \n",
              "\n",
              "       views  actual_spend_local_currency  video_fully_played  \n",
              "0        0.0                 15409.371330                   0  \n",
              "1  1584003.0                 17127.027480             1270412  \n",
              "2        0.0                  8765.934660                   0  \n",
              "3        0.0                  3957.866740                   0  \n",
              "4        0.0                 13022.816899             4390651  "
            ],
            "text/html": [
              "\n",
              "  <div id=\"df-4a9d4caa-9b08-43bc-9750-e8914471a3d6\" class=\"colab-df-container\">\n",
              "    <div>\n",
              "<style scoped>\n",
              "    .dataframe tbody tr th:only-of-type {\n",
              "        vertical-align: middle;\n",
              "    }\n",
              "\n",
              "    .dataframe tbody tr th {\n",
              "        vertical-align: top;\n",
              "    }\n",
              "\n",
              "    .dataframe thead th {\n",
              "        text-align: right;\n",
              "    }\n",
              "</style>\n",
              "<table border=\"1\" class=\"dataframe\">\n",
              "  <thead>\n",
              "    <tr style=\"text-align: right;\">\n",
              "      <th></th>\n",
              "      <th>country_id</th>\n",
              "      <th>cell</th>\n",
              "      <th>brand</th>\n",
              "      <th>channel</th>\n",
              "      <th>platform</th>\n",
              "      <th>campaign_name</th>\n",
              "      <th>clicks</th>\n",
              "      <th>impressions</th>\n",
              "      <th>views</th>\n",
              "      <th>actual_spend_local_currency</th>\n",
              "      <th>video_fully_played</th>\n",
              "    </tr>\n",
              "  </thead>\n",
              "  <tbody>\n",
              "    <tr>\n",
              "      <th>0</th>\n",
              "      <td>FR</td>\n",
              "      <td>NA</td>\n",
              "      <td>Pedigree</td>\n",
              "      <td>Programmatic</td>\n",
              "      <td>Amazon DSP</td>\n",
              "      <td>fr_pedigree_petcare_europe_ct_brand_dis_23_01_...</td>\n",
              "      <td>6306</td>\n",
              "      <td>6738068</td>\n",
              "      <td>0.0</td>\n",
              "      <td>15409.371330</td>\n",
              "      <td>0</td>\n",
              "    </tr>\n",
              "    <tr>\n",
              "      <th>1</th>\n",
              "      <td>FR</td>\n",
              "      <td>NA</td>\n",
              "      <td>Pedigree</td>\n",
              "      <td>Programmatic</td>\n",
              "      <td>Amazon DSP</td>\n",
              "      <td>fr_pedigree_petcare_europe_ct_brand_vid_23_01_...</td>\n",
              "      <td>3828</td>\n",
              "      <td>1919319</td>\n",
              "      <td>1584003.0</td>\n",
              "      <td>17127.027480</td>\n",
              "      <td>1270412</td>\n",
              "    </tr>\n",
              "    <tr>\n",
              "      <th>2</th>\n",
              "      <td>FR</td>\n",
              "      <td>NA</td>\n",
              "      <td>Pedigree</td>\n",
              "      <td>Programmatic</td>\n",
              "      <td>Amazon DSP</td>\n",
              "      <td>fr_pedigree_petcare_europe_ct_dcom_dis_22_11_p...</td>\n",
              "      <td>2169</td>\n",
              "      <td>2037857</td>\n",
              "      <td>0.0</td>\n",
              "      <td>8765.934660</td>\n",
              "      <td>0</td>\n",
              "    </tr>\n",
              "    <tr>\n",
              "      <th>3</th>\n",
              "      <td>FR</td>\n",
              "      <td>NA</td>\n",
              "      <td>Pedigree</td>\n",
              "      <td>Programmatic</td>\n",
              "      <td>Amazon DSP</td>\n",
              "      <td>fr_pedigree_petcare_europe_ct_dcom_dis_22_11_p...</td>\n",
              "      <td>1491</td>\n",
              "      <td>1409381</td>\n",
              "      <td>0.0</td>\n",
              "      <td>3957.866740</td>\n",
              "      <td>0</td>\n",
              "    </tr>\n",
              "    <tr>\n",
              "      <th>4</th>\n",
              "      <td>FR</td>\n",
              "      <td>NA</td>\n",
              "      <td>Pedigree</td>\n",
              "      <td>Programmatic</td>\n",
              "      <td>Dv360-YouTube</td>\n",
              "      <td>fr_pdg_p1-alien-vnp_pn_eur_dmm_brand_olv_aware...</td>\n",
              "      <td>5420</td>\n",
              "      <td>4970016</td>\n",
              "      <td>0.0</td>\n",
              "      <td>13022.816899</td>\n",
              "      <td>4390651</td>\n",
              "    </tr>\n",
              "  </tbody>\n",
              "</table>\n",
              "</div>\n",
              "    <div class=\"colab-df-buttons\">\n",
              "\n",
              "  <div class=\"colab-df-container\">\n",
              "    <button class=\"colab-df-convert\" onclick=\"convertToInteractive('df-4a9d4caa-9b08-43bc-9750-e8914471a3d6')\"\n",
              "            title=\"Convert this dataframe to an interactive table.\"\n",
              "            style=\"display:none;\">\n",
              "\n",
              "  <svg xmlns=\"http://www.w3.org/2000/svg\" height=\"24px\" viewBox=\"0 -960 960 960\">\n",
              "    <path d=\"M120-120v-720h720v720H120Zm60-500h600v-160H180v160Zm220 220h160v-160H400v160Zm0 220h160v-160H400v160ZM180-400h160v-160H180v160Zm440 0h160v-160H620v160ZM180-180h160v-160H180v160Zm440 0h160v-160H620v160Z\"/>\n",
              "  </svg>\n",
              "    </button>\n",
              "\n",
              "  <style>\n",
              "    .colab-df-container {\n",
              "      display:flex;\n",
              "      gap: 12px;\n",
              "    }\n",
              "\n",
              "    .colab-df-convert {\n",
              "      background-color: #E8F0FE;\n",
              "      border: none;\n",
              "      border-radius: 50%;\n",
              "      cursor: pointer;\n",
              "      display: none;\n",
              "      fill: #1967D2;\n",
              "      height: 32px;\n",
              "      padding: 0 0 0 0;\n",
              "      width: 32px;\n",
              "    }\n",
              "\n",
              "    .colab-df-convert:hover {\n",
              "      background-color: #E2EBFA;\n",
              "      box-shadow: 0px 1px 2px rgba(60, 64, 67, 0.3), 0px 1px 3px 1px rgba(60, 64, 67, 0.15);\n",
              "      fill: #174EA6;\n",
              "    }\n",
              "\n",
              "    .colab-df-buttons div {\n",
              "      margin-bottom: 4px;\n",
              "    }\n",
              "\n",
              "    [theme=dark] .colab-df-convert {\n",
              "      background-color: #3B4455;\n",
              "      fill: #D2E3FC;\n",
              "    }\n",
              "\n",
              "    [theme=dark] .colab-df-convert:hover {\n",
              "      background-color: #434B5C;\n",
              "      box-shadow: 0px 1px 3px 1px rgba(0, 0, 0, 0.15);\n",
              "      filter: drop-shadow(0px 1px 2px rgba(0, 0, 0, 0.3));\n",
              "      fill: #FFFFFF;\n",
              "    }\n",
              "  </style>\n",
              "\n",
              "    <script>\n",
              "      const buttonEl =\n",
              "        document.querySelector('#df-4a9d4caa-9b08-43bc-9750-e8914471a3d6 button.colab-df-convert');\n",
              "      buttonEl.style.display =\n",
              "        google.colab.kernel.accessAllowed ? 'block' : 'none';\n",
              "\n",
              "      async function convertToInteractive(key) {\n",
              "        const element = document.querySelector('#df-4a9d4caa-9b08-43bc-9750-e8914471a3d6');\n",
              "        const dataTable =\n",
              "          await google.colab.kernel.invokeFunction('convertToInteractive',\n",
              "                                                    [key], {});\n",
              "        if (!dataTable) return;\n",
              "\n",
              "        const docLinkHtml = 'Like what you see? Visit the ' +\n",
              "          '<a target=\"_blank\" href=https://colab.research.google.com/notebooks/data_table.ipynb>data table notebook</a>'\n",
              "          + ' to learn more about interactive tables.';\n",
              "        element.innerHTML = '';\n",
              "        dataTable['output_type'] = 'display_data';\n",
              "        await google.colab.output.renderOutput(dataTable, element);\n",
              "        const docLink = document.createElement('div');\n",
              "        docLink.innerHTML = docLinkHtml;\n",
              "        element.appendChild(docLink);\n",
              "      }\n",
              "    </script>\n",
              "  </div>\n",
              "\n",
              "\n",
              "<div id=\"df-e8c3c177-c13c-4111-8d70-852154fa265c\">\n",
              "  <button class=\"colab-df-quickchart\" onclick=\"quickchart('df-e8c3c177-c13c-4111-8d70-852154fa265c')\"\n",
              "            title=\"Suggest charts.\"\n",
              "            style=\"display:none;\">\n",
              "\n",
              "<svg xmlns=\"http://www.w3.org/2000/svg\" height=\"24px\"viewBox=\"0 0 24 24\"\n",
              "     width=\"24px\">\n",
              "    <g>\n",
              "        <path d=\"M19 3H5c-1.1 0-2 .9-2 2v14c0 1.1.9 2 2 2h14c1.1 0 2-.9 2-2V5c0-1.1-.9-2-2-2zM9 17H7v-7h2v7zm4 0h-2V7h2v10zm4 0h-2v-4h2v4z\"/>\n",
              "    </g>\n",
              "</svg>\n",
              "  </button>\n",
              "\n",
              "<style>\n",
              "  .colab-df-quickchart {\n",
              "      --bg-color: #E8F0FE;\n",
              "      --fill-color: #1967D2;\n",
              "      --hover-bg-color: #E2EBFA;\n",
              "      --hover-fill-color: #174EA6;\n",
              "      --disabled-fill-color: #AAA;\n",
              "      --disabled-bg-color: #DDD;\n",
              "  }\n",
              "\n",
              "  [theme=dark] .colab-df-quickchart {\n",
              "      --bg-color: #3B4455;\n",
              "      --fill-color: #D2E3FC;\n",
              "      --hover-bg-color: #434B5C;\n",
              "      --hover-fill-color: #FFFFFF;\n",
              "      --disabled-bg-color: #3B4455;\n",
              "      --disabled-fill-color: #666;\n",
              "  }\n",
              "\n",
              "  .colab-df-quickchart {\n",
              "    background-color: var(--bg-color);\n",
              "    border: none;\n",
              "    border-radius: 50%;\n",
              "    cursor: pointer;\n",
              "    display: none;\n",
              "    fill: var(--fill-color);\n",
              "    height: 32px;\n",
              "    padding: 0;\n",
              "    width: 32px;\n",
              "  }\n",
              "\n",
              "  .colab-df-quickchart:hover {\n",
              "    background-color: var(--hover-bg-color);\n",
              "    box-shadow: 0 1px 2px rgba(60, 64, 67, 0.3), 0 1px 3px 1px rgba(60, 64, 67, 0.15);\n",
              "    fill: var(--button-hover-fill-color);\n",
              "  }\n",
              "\n",
              "  .colab-df-quickchart-complete:disabled,\n",
              "  .colab-df-quickchart-complete:disabled:hover {\n",
              "    background-color: var(--disabled-bg-color);\n",
              "    fill: var(--disabled-fill-color);\n",
              "    box-shadow: none;\n",
              "  }\n",
              "\n",
              "  .colab-df-spinner {\n",
              "    border: 2px solid var(--fill-color);\n",
              "    border-color: transparent;\n",
              "    border-bottom-color: var(--fill-color);\n",
              "    animation:\n",
              "      spin 1s steps(1) infinite;\n",
              "  }\n",
              "\n",
              "  @keyframes spin {\n",
              "    0% {\n",
              "      border-color: transparent;\n",
              "      border-bottom-color: var(--fill-color);\n",
              "      border-left-color: var(--fill-color);\n",
              "    }\n",
              "    20% {\n",
              "      border-color: transparent;\n",
              "      border-left-color: var(--fill-color);\n",
              "      border-top-color: var(--fill-color);\n",
              "    }\n",
              "    30% {\n",
              "      border-color: transparent;\n",
              "      border-left-color: var(--fill-color);\n",
              "      border-top-color: var(--fill-color);\n",
              "      border-right-color: var(--fill-color);\n",
              "    }\n",
              "    40% {\n",
              "      border-color: transparent;\n",
              "      border-right-color: var(--fill-color);\n",
              "      border-top-color: var(--fill-color);\n",
              "    }\n",
              "    60% {\n",
              "      border-color: transparent;\n",
              "      border-right-color: var(--fill-color);\n",
              "    }\n",
              "    80% {\n",
              "      border-color: transparent;\n",
              "      border-right-color: var(--fill-color);\n",
              "      border-bottom-color: var(--fill-color);\n",
              "    }\n",
              "    90% {\n",
              "      border-color: transparent;\n",
              "      border-bottom-color: var(--fill-color);\n",
              "    }\n",
              "  }\n",
              "</style>\n",
              "\n",
              "  <script>\n",
              "    async function quickchart(key) {\n",
              "      const quickchartButtonEl =\n",
              "        document.querySelector('#' + key + ' button');\n",
              "      quickchartButtonEl.disabled = true;  // To prevent multiple clicks.\n",
              "      quickchartButtonEl.classList.add('colab-df-spinner');\n",
              "      try {\n",
              "        const charts = await google.colab.kernel.invokeFunction(\n",
              "            'suggestCharts', [key], {});\n",
              "      } catch (error) {\n",
              "        console.error('Error during call to suggestCharts:', error);\n",
              "      }\n",
              "      quickchartButtonEl.classList.remove('colab-df-spinner');\n",
              "      quickchartButtonEl.classList.add('colab-df-quickchart-complete');\n",
              "    }\n",
              "    (() => {\n",
              "      let quickchartButtonEl =\n",
              "        document.querySelector('#df-e8c3c177-c13c-4111-8d70-852154fa265c button');\n",
              "      quickchartButtonEl.style.display =\n",
              "        google.colab.kernel.accessAllowed ? 'block' : 'none';\n",
              "    })();\n",
              "  </script>\n",
              "</div>\n",
              "    </div>\n",
              "  </div>\n"
            ]
          },
          "metadata": {},
          "execution_count": 34
        }
      ],
      "source": [
        "final.head()"
      ]
    },
    {
      "cell_type": "code",
      "execution_count": 33,
      "metadata": {
        "colab": {
          "base_uri": "https://localhost:8080/"
        },
        "id": "UO_Nc40ROR45",
        "outputId": "cf352f3d-ec43-4edc-d837-70027fe4baa4"
      },
      "outputs": [
        {
          "output_type": "execute_result",
          "data": {
            "text/plain": [
              "(32, 11)"
            ]
          },
          "metadata": {},
          "execution_count": 33
        }
      ],
      "source": [
        "final.shape"
      ]
    },
    {
      "cell_type": "code",
      "execution_count": null,
      "metadata": {
        "id": "uZJcqCJXyWDl"
      },
      "outputs": [],
      "source": [
        "#final.to_excel(writer, sheet_name = f'Performance Data {country}.xlsx', index=False)"
      ]
    },
    {
      "cell_type": "code",
      "execution_count": 36,
      "metadata": {
        "id": "1F7R67AEMyl3"
      },
      "outputs": [],
      "source": [
        "final.to_excel(f'Performance Data {country}_1.xlsx', index=False)"
      ]
    },
    {
      "cell_type": "code",
      "execution_count": null,
      "metadata": {
        "id": "hYjYRQT6JtYI"
      },
      "outputs": [],
      "source": [
        "# change the market\n",
        "\n",
        "country_reach = [f'{folder}/{country}/{i}' for i in os.listdir(f'/content/drive/MyDrive/APAC/all country /{country}') if i.startswith(f\"{country[:2]}_DATORAMA_REACH\")]"
      ]
    },
    {
      "cell_type": "code",
      "source": [
        "# CA Reach is in US-2 file (Loading CA Reach file)\n",
        "country_id = 'CA'\n",
        "country_reach = [f'{folder}/{country}/{i}' for i in os.listdir(f'/content/drive/MyDrive/APAC/all country /{country}') if i.startswith(f\"{'CA'}_DATORAMA_REACH\")]"
      ],
      "metadata": {
        "id": "hNUpmwI8utZ3"
      },
      "execution_count": null,
      "outputs": []
    },
    {
      "cell_type": "code",
      "execution_count": null,
      "metadata": {
        "id": "oScEYiTPKvBL"
      },
      "outputs": [],
      "source": [
        "country_reach"
      ]
    },
    {
      "cell_type": "code",
      "execution_count": null,
      "metadata": {
        "id": "77gNDuRozhOY"
      },
      "outputs": [],
      "source": [
        "rd = pd.read_csv(country_reach[0], sep = '\\t',skiprows=4)\n"
      ]
    },
    {
      "cell_type": "code",
      "execution_count": null,
      "metadata": {
        "id": "2MSccYAVidwb"
      },
      "outputs": [],
      "source": [
        "import pandas as pd"
      ]
    },
    {
      "cell_type": "code",
      "execution_count": null,
      "metadata": {
        "id": "pHNDQ3NGiaV5"
      },
      "outputs": [],
      "source": [
        "#rd = pd.read_excel('/content/HK_DATORAMA_REACH_MW_2023-04-25.xls')"
      ]
    },
    {
      "cell_type": "code",
      "execution_count": null,
      "metadata": {
        "id": "3S9HMuZxzq5S"
      },
      "outputs": [],
      "source": [
        "rdf = rd[['Brand (Final) [Brand Classification Rule]','Source Platform','Campaign Name','Reach']]\n",
        "rdf.head()"
      ]
    },
    {
      "cell_type": "code",
      "execution_count": null,
      "metadata": {
        "id": "vK9fqylLtlYm"
      },
      "outputs": [],
      "source": [
        "rdf.shape"
      ]
    },
    {
      "cell_type": "code",
      "execution_count": null,
      "metadata": {
        "id": "71BymE2a0mEc"
      },
      "outputs": [],
      "source": [
        "rdf = pd.merge(rdf, segment, how = 'left', left_on='Brand (Final) [Brand Classification Rule]', right_on='Brand')\n",
        "rdf.drop('Brand', axis=1, inplace=True)"
      ]
    },
    {
      "cell_type": "code",
      "execution_count": null,
      "metadata": {
        "id": "t0lvFiKq0zhI"
      },
      "outputs": [],
      "source": [
        "rdf = rdf.rename(columns={'Brand (Final) [Brand Classification Rule]': 'brand',\n",
        "                        'Source Platform': 'platform',\n",
        "                        'Campaign Name': 'campaign_name',\n",
        "                        'Segment': 'cell',\n",
        "                        'Reach' : 'in_platform_reach'\n",
        "                       })"
      ]
    },
    {
      "cell_type": "code",
      "execution_count": null,
      "metadata": {
        "id": "qUe_arxK0tmQ"
      },
      "outputs": [],
      "source": [
        "rdf.insert(0, 'country_id', country)"
      ]
    },
    {
      "cell_type": "code",
      "execution_count": null,
      "metadata": {
        "id": "vGzqCHOT1KRg"
      },
      "outputs": [],
      "source": [
        "cols = list(rdf.columns)\n",
        "lc = cols.pop()\n",
        "cols.insert(2,lc)"
      ]
    },
    {
      "cell_type": "code",
      "execution_count": null,
      "metadata": {
        "id": "Q6dJdKuo2EET"
      },
      "outputs": [],
      "source": [
        "rdf =rdf.reindex(columns=cols)"
      ]
    },
    {
      "cell_type": "code",
      "execution_count": null,
      "metadata": {
        "id": "rQtb9Vwp0sxs"
      },
      "outputs": [],
      "source": [
        "rdf.head()"
      ]
    },
    {
      "cell_type": "code",
      "execution_count": null,
      "metadata": {
        "id": "xLXRvtoU1PGC"
      },
      "outputs": [],
      "source": [
        "#rdf.to_excel(writer, sheet_name = f'Reach Data {country}.xlsx', index=False)"
      ]
    },
    {
      "cell_type": "code",
      "execution_count": null,
      "metadata": {
        "id": "l1VJxO1BkTLH"
      },
      "outputs": [],
      "source": [
        "rdf.to_excel(f'Reach Data {country}.xlsx', index=False)"
      ]
    },
    {
      "cell_type": "code",
      "execution_count": null,
      "metadata": {
        "id": "OZnf6PYv2PrM"
      },
      "outputs": [],
      "source": []
    },
    {
      "cell_type": "code",
      "execution_count": null,
      "metadata": {
        "id": "yx5GcC1V3n4K"
      },
      "outputs": [],
      "source": []
    }
  ],
  "metadata": {
    "colab": {
      "provenance": [],
      "include_colab_link": true
    },
    "kernelspec": {
      "display_name": "Python 3",
      "name": "python3"
    },
    "language_info": {
      "name": "python"
    }
  },
  "nbformat": 4,
  "nbformat_minor": 0
}